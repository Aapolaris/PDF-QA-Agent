{
 "cells": [
  {
   "cell_type": "markdown",
   "id": "e21881fc",
   "metadata": {},
   "source": [
    "# Build A QA Application over a Graph Database\n",
    "\n",
    "[build a qa application over a graph datatbase](https://python.langchain.com/docs/tutorials/graph/)"
   ]
  },
  {
   "cell_type": "markdown",
   "id": "c5f2e889",
   "metadata": {},
   "source": [
    "## Setup"
   ]
  },
  {
   "cell_type": "code",
   "execution_count": null,
   "id": "be9927da",
   "metadata": {},
   "outputs": [],
   "source": []
  }
 ],
 "metadata": {
  "kernelspec": {
   "display_name": "langchain",
   "language": "python",
   "name": "python3"
  },
  "language_info": {
   "codemirror_mode": {
    "name": "ipython",
    "version": 3
   },
   "file_extension": ".py",
   "mimetype": "text/x-python",
   "name": "python",
   "nbconvert_exporter": "python",
   "pygments_lexer": "ipython3",
   "version": "3.9.23"
  }
 },
 "nbformat": 4,
 "nbformat_minor": 5
}
