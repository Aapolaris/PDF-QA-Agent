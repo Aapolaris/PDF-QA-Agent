{
 "cells": [
  {
   "cell_type": "markdown",
   "id": "92c536d2",
   "metadata": {},
   "source": [
    "# 制作一个RAG应用-2\n",
    "\n",
    "[build a RAG application | part 2](https://python.langchain.com/docs/tutorials/qa_chat_history/)\n",
    "\n",
    "本节重点关注将历史信息纳入logic。这就涉及到历史信息的管理。\n",
    "\n",
    "在此介绍两种方法：<br>\n",
    "- Chains：设计了一个可预测的应用，这个应用对用户的每次输入最多生成一次查询。即流程严格按照Chains走\n",
    "- Agents，设计了一个应用（相比Chains方法要更不可预测一些），可以进行迭代查询。（仍然使用 `create_react_agent` 方法）\n",
    "\n",
    "本节使用 `@tool` 装饰器将自制函数封装成工具使用。"
   ]
  },
  {
   "cell_type": "markdown",
   "id": "fa91d610",
   "metadata": {},
   "source": [
    "## Setup"
   ]
  },
  {
   "cell_type": "code",
   "execution_count": 1,
   "id": "5eed185a",
   "metadata": {},
   "outputs": [],
   "source": [
    "import os\n",
    "from langchain.chat_models import init_chat_model\n",
    "\n",
    "os.environ.get('GOOGLE_API_KEY')\n",
    "os.environ['HTTP_PROXY'] = 'http://127.0.0.1:7890'\n",
    "os.environ['HTTPS_PROXY'] = 'http://127.0.0.1:7890'\n",
    "\n",
    "llm = init_chat_model('gemini-2.5-flash', model_provider='google-genai')"
   ]
  },
  {
   "cell_type": "code",
   "execution_count": 2,
   "id": "6e07546d",
   "metadata": {},
   "outputs": [],
   "source": [
    "from langchain_google_genai import GoogleGenerativeAIEmbeddings\n",
    "\n",
    "embeddings = GoogleGenerativeAIEmbeddings(model='models/gemini-embedding-001')"
   ]
  },
  {
   "cell_type": "code",
   "execution_count": 3,
   "id": "5fd68cf8",
   "metadata": {},
   "outputs": [],
   "source": [
    "from langchain_chroma import Chroma\n",
    "\n",
    "vector_store = Chroma(\n",
    "    collection_name='example_collection',\n",
    "    embedding_function=embeddings,\n",
    "    persist_directory='./chroma_langchain_db',\n",
    ")"
   ]
  },
  {
   "cell_type": "markdown",
   "id": "8a7a7022",
   "metadata": {},
   "source": [
    "## Chain"
   ]
  },
  {
   "cell_type": "code",
   "execution_count": 5,
   "id": "9bafd007",
   "metadata": {},
   "outputs": [],
   "source": [
    "import bs4\n",
    "from langchain import hub\n",
    "from langchain_community.document_loaders import WebBaseLoader\n",
    "from langchain_core.documents import Document\n",
    "from langchain_text_splitters import RecursiveCharacterTextSplitter\n",
    "from typing_extensions import List, TypedDict\n",
    "\n",
    "# load and chunk contenes of the blog\n",
    "loader = WebBaseLoader(\n",
    "    web_paths=(\"https://lilianweng.github.io/posts/2023-06-23-agent/\", ),\n",
    "    bs_kwargs=dict(\n",
    "        parse_only=bs4.SoupStrainer(class_=('post-content', 'post-title', 'post-header'))\n",
    "    )\n",
    ")\n",
    "docs = loader.load()\n",
    "text_splitter = RecursiveCharacterTextSplitter(chunk_size=1000, chunk_overlap=200)\n",
    "all_splits = text_splitter.split_documents(docs)\n",
    "\n",
    "# index chunks\n",
    "_ = vector_store.add_documents(documents=all_splits)"
   ]
  },
  {
   "cell_type": "markdown",
   "id": "52bfd46a",
   "metadata": {},
   "source": [
    "对话经历可以用 a sequence of messages 表示，其中不仅包含用户和AI的messages，还有检索到的文档以及其它可以通过`tool messages`整合到 message sequence 的工具。\n",
    "\n",
    "也就是说，我们有：\n",
    "- 用户输入 --> `HumanMessage`\n",
    "- Vector store query --> `AIMessage` with tool calls\n",
    "- retieved documents --> `ToolMessage`\n",
    "- final response --> `AIMessage`\n",
    "\n",
    "这种模式用途广泛，因此langgraph提供了内置版本以便使用: `MessagesState`"
   ]
  },
  {
   "cell_type": "code",
   "execution_count": 6,
   "id": "d512f400",
   "metadata": {},
   "outputs": [],
   "source": [
    "from langgraph.graph import MessagesState, StateGraph\n",
    "\n",
    "graph_builder = StateGraph(MessagesState)"
   ]
  },
  {
   "cell_type": "markdown",
   "id": "9dd3aa60",
   "metadata": {},
   "source": [
    "在langchain中，`tool-calling`把LLM从“纯聊天机器人”升级为“能调用外部函数的智能体”。\n",
    "在part1的部分，我们增加了一个`query analysis`流程，使得模型能够对用户输入进行重写，得到更加高效的查询问句。<br>\n",
    "而在`tool-calling`中，还支持模型对于无需检索的用户输入直接给出回应（而无需进行检索等步骤）<br>\n",
    "\n",
    "为此，需要把retrieve step封装为一个`tool`\n",
    "\n",
    "\n",
    "`@tool` 是一个工具装饰器，能够把自定义函数封装成 tool （前面使用的 `TvilySearch` 则是langchain封装好的工具）<br>\n",
    "`response_format='content_and_artifact'` 指工具（函数）不仅返回内容，还返回工具得到的一些副产品。其中前者是交给 LLM 的， 而后者则留下来供下游（或开发者）使用\n",
    "\n",
    "[有关tools制作的更多细节](https://python.langchain.com/docs/how_to/custom_tools/)"
   ]
  },
  {
   "cell_type": "code",
   "execution_count": 20,
   "id": "ed4c8b71",
   "metadata": {},
   "outputs": [],
   "source": [
    "from langchain_core.tools import tool\n",
    "\n",
    "@tool(response_format='content_and_artifact')\n",
    "def retrieve(query: str):\n",
    "    \"\"\"retrieve information related to a query\"\"\"\n",
    "    retrieved_docs = vector_store.similarity_search(query, k=2)  # 取前2个最相似的文档\n",
    "    serialized = '\\n\\n'.join(\n",
    "        (f'Source: {doc.metadata}\\nContent: {doc.page_content}') for doc in retrieved_docs\n",
    "    )\n",
    "    return serialized, retrieved_docs\n"
   ]
  },
  {
   "cell_type": "markdown",
   "id": "60987f77",
   "metadata": {},
   "source": [
    "**Nodes**<br>\n",
    "1. 用于提取用户输入，生成query或直接回应\n",
    "2. 用于检索步骤的retriever tool\n",
    "3. 用retrieved context生成最后回应\n",
    "\n",
    "`ToolNode`：执行工具，并把结果作为 `TooMessage` 添加到state中"
   ]
  },
  {
   "cell_type": "code",
   "execution_count": null,
   "id": "335bd082",
   "metadata": {},
   "outputs": [],
   "source": [
    "from langchain_core.messages import SystemMessage\n",
    "from langgraph.prebuilt import ToolNode\n",
    "\n",
    "# step1: 生成一条AIMessage，其中可能包含一个工具调用\n",
    "def query_or_respond(state: MessagesState):\n",
    "    \"\"\"generate tool call for retrieval or respond\"\"\"\n",
    "    llm_with_tools = llm.bind_tools([retrieve])\n",
    "    response = llm_with_tools.invoke(state['messages'])\n",
    "    # MessagesState append messages to state instead of overwriting\n",
    "    return {\"messages\": [response]}\n",
    "\n",
    "# step2: execte the retrieval\n",
    "tools = ToolNode([retrieve])\n",
    "\n",
    "# step3: generate a response using the retrieved content\n",
    "def generate(state: MessagesState):\n",
    "    \"\"\"generate answer\"\"\"\n",
    "    # get generated ToolMessages\n",
    "    recent_tool_messages = []\n",
    "    for message in reversed(state['messages']):\n",
    "        if message.type == 'tool':\n",
    "            recent_tool_messages.append(message)\n",
    "        else:\n",
    "            break\n",
    "    tool_messages = recent_tool_messages[::-1]\n",
    "\n",
    "    # fomat into prompt\n",
    "    docs_content = '\\n\\n'.join(doc.content for doc in tool_messages)\n",
    "    system_message_content = (\n",
    "        \"You are an assistant for question-answering tasks. \"\n",
    "        \"Use the following pieces of retrieved context to answer \"\n",
    "        \"the question. If you don't know the answer, say that you \"\n",
    "        \"don't know. Use three sentences maximum and keep the \"\n",
    "        \"answer concise.\"\n",
    "        \"\\n\\n\"\n",
    "        f\"{docs_content}\"\n",
    "    )\n",
    "    conversation_messages = [  # 对话信息包含：human, system, 和不带tool_calls的aimessage\n",
    "        message\n",
    "        for message in state[\"messages\"]\n",
    "        if message.type in ('human', 'system')\n",
    "        or (message.type == 'ai' and not message.tool_calls)\n",
    "    ]\n",
    "    prompt = [SystemMessage(system_message_content)] + conversation_messages\n",
    "\n",
    "    response = llm.invoke(prompt)\n",
    "    return {'messages': [response]}"
   ]
  },
  {
   "cell_type": "markdown",
   "id": "3ed795ca",
   "metadata": {},
   "source": [
    "**编译**<br>\n",
    "把应用编译为一个`graph`对象\n",
    "\n",
    "`tools_condition`：条件函数。用于检查来源节点`query_or_respond`输出的最新 `AIMessage` 是否包含 `tool_calls`：\n",
    "- 如果不包含，则返回路由键 `END` ，那么图直接结束；\n",
    "- 否则，返回路由键 `tools`，图跳转到工具执行节点"
   ]
  },
  {
   "cell_type": "code",
   "execution_count": 9,
   "id": "1c533b59",
   "metadata": {},
   "outputs": [],
   "source": [
    "from langgraph.graph import END\n",
    "from langgraph.prebuilt import ToolNode, tools_condition\n",
    "\n",
    "graph_builder.add_node(query_or_respond)\n",
    "graph_builder.add_node(tools)\n",
    "graph_builder.add_node(generate)\n",
    "\n",
    "graph_builder.set_entry_point('query_or_respond')\n",
    "graph_builder.add_conditional_edges(\n",
    "    'query_or_respond',\n",
    "    tools_condition,\n",
    "    {END: END, 'tools': 'tools'}\n",
    ")\n",
    "graph_builder.add_edge('tools', 'generate')\n",
    "graph_builder.add_edge('generate', END)\n",
    "\n",
    "graph = graph_builder.compile()"
   ]
  },
  {
   "cell_type": "code",
   "execution_count": 10,
   "id": "86aa1357",
   "metadata": {},
   "outputs": [
    {
     "data": {
      "image/png": "[encoded data removed]",
      "text/plain": [
       "<IPython.core.display.Image object>"
      ]
     },
     "metadata": {},
     "output_type": "display_data"
    }
   ],
   "source": [
    "from IPython.display import Image, display\n",
    "\n",
    "display(Image(graph.get_graph().draw_mermaid_png()))"
   ]
  },
  {
   "cell_type": "code",
   "execution_count": 12,
   "id": "64849083",
   "metadata": {},
   "outputs": [
    {
     "name": "stdout",
     "output_type": "stream",
     "text": [
      "================================\u001b[1m Human Message \u001b[0m=================================\n",
      "\n",
      "Hi!\n",
      "==================================\u001b[1m Ai Message \u001b[0m==================================\n",
      "\n",
      "Hello! How can I help you today?\n"
     ]
    }
   ],
   "source": [
    "for step in graph.stream(\n",
    "    {'messages': [{'role': 'user', 'content': 'Hi!'}]},\n",
    "    stream_mode='values'\n",
    "):\n",
    "    step['messages'][-1].pretty_print()"
   ]
  },
  {
   "cell_type": "code",
   "execution_count": 13,
   "id": "6ce0bdec",
   "metadata": {},
   "outputs": [
    {
     "name": "stdout",
     "output_type": "stream",
     "text": [
      "================================\u001b[1m Human Message \u001b[0m=================================\n",
      "\n",
      "what's task decomposition?\n",
      "==================================\u001b[1m Ai Message \u001b[0m==================================\n",
      "Tool Calls:\n",
      "  retrieve (e1817007-b11b-4e7f-af1a-c12cb8666104)\n",
      " Call ID: e1817007-b11b-4e7f-af1a-c12cb8666104\n",
      "  Args:\n",
      "    query: task decomposition\n",
      "=================================\u001b[1m Tool Message \u001b[0m=================================\n",
      "Name: retrieve\n",
      "\n",
      "Source: {'source': 'https://lilianweng.github.io/posts/2023-06-23-agent/'}\n",
      "Content: Task decomposition can be done (1) by LLM with simple prompting like \"Steps for XYZ.\\n1.\", \"What are the subgoals for achieving XYZ?\", (2) by using task-specific instructions; e.g. \"Write a story outline.\" for writing a novel, or (3) with human inputs.\n",
      "Another quite distinct approach, LLM+P (Liu et al. 2023), involves relying on an external classical planner to do long-horizon planning. This approach utilizes the Planning Domain Definition Language (PDDL) as an intermediate interface to describe the planning problem. In this process, LLM (1) translates the problem into “Problem PDDL”, then (2) requests a classical planner to generate a PDDL plan based on an existing “Domain PDDL”, and finally (3) translates the PDDL plan back into natural language. Essentially, the planning step is outsourced to an external tool, assuming the availability of domain-specific PDDL and a suitable planner which is common in certain robotic setups but not in many other domains.\n",
      "Self-Reflection#\n",
      "\n",
      "Source: {'source': 'https://lilianweng.github.io/posts/2023-06-23-agent/'}\n",
      "Content: Task decomposition can be done (1) by LLM with simple prompting like \"Steps for XYZ.\\n1.\", \"What are the subgoals for achieving XYZ?\", (2) by using task-specific instructions; e.g. \"Write a story outline.\" for writing a novel, or (3) with human inputs.\n",
      "Another quite distinct approach, LLM+P (Liu et al. 2023), involves relying on an external classical planner to do long-horizon planning. This approach utilizes the Planning Domain Definition Language (PDDL) as an intermediate interface to describe the planning problem. In this process, LLM (1) translates the problem into “Problem PDDL”, then (2) requests a classical planner to generate a PDDL plan based on an existing “Domain PDDL”, and finally (3) translates the PDDL plan back into natural language. Essentially, the planning step is outsourced to an external tool, assuming the availability of domain-specific PDDL and a suitable planner which is common in certain robotic setups but not in many other domains.\n",
      "Self-Reflection#\n",
      "==================================\u001b[1m Ai Message \u001b[0m==================================\n",
      "\n",
      "Task decomposition is the process of breaking down a larger task into smaller, manageable subgoals or steps. This can be achieved through various methods, including using a Large Language Model (LLM) with simple prompts, applying task-specific instructions, or incorporating human input.\n"
     ]
    }
   ],
   "source": [
    "input_message = \"what's task decomposition?\"\n",
    "for step in graph.stream(\n",
    "    {'messages': [{'role': 'user', 'content': input_message}]},\n",
    "    stream_mode='values'\n",
    "):\n",
    "    step['messages'][-1].pretty_print()"
   ]
  },
  {
   "cell_type": "markdown",
   "id": "1d97b040",
   "metadata": {},
   "source": [
    "### Staeful management of chat history\n",
    "两种常用的方法：\n",
    "- `RunnableWithMessageHistory` : 在简单的对话应用场景中非常适用\n",
    "- `LangGraph` ： 内置了一个 `persistence layer` ，使得支持多轮对话\n",
    "\n",
    "这里我们使用 `LangGraph` 方法用于管理多个对话回合和线程。为此，我们需要在编译应用是指定一个 `checkpointer` "
   ]
  },
  {
   "cell_type": "code",
   "execution_count": 15,
   "id": "4f339640",
   "metadata": {},
   "outputs": [],
   "source": [
    "from langgraph.checkpoint.memory import MemorySaver\n",
    "\n",
    "memory = MemorySaver()\n",
    "graph = graph_builder.compile(checkpointer=memory)\n",
    "\n",
    "config = {\"configurable\": {\"thread_id\": 'abc123'}}"
   ]
  },
  {
   "cell_type": "code",
   "execution_count": 16,
   "id": "28792727",
   "metadata": {},
   "outputs": [
    {
     "name": "stdout",
     "output_type": "stream",
     "text": [
      "================================\u001b[1m Human Message \u001b[0m=================================\n",
      "\n",
      "what's task decomposition?\n",
      "==================================\u001b[1m Ai Message \u001b[0m==================================\n",
      "Tool Calls:\n",
      "  retrieve (e3ddb37d-a937-475a-bf8e-7f5c4aabdc23)\n",
      " Call ID: e3ddb37d-a937-475a-bf8e-7f5c4aabdc23\n",
      "  Args:\n",
      "    query: task decomposition\n",
      "=================================\u001b[1m Tool Message \u001b[0m=================================\n",
      "Name: retrieve\n",
      "\n",
      "Source: {'source': 'https://lilianweng.github.io/posts/2023-06-23-agent/'}\n",
      "Content: Task decomposition can be done (1) by LLM with simple prompting like \"Steps for XYZ.\\n1.\", \"What are the subgoals for achieving XYZ?\", (2) by using task-specific instructions; e.g. \"Write a story outline.\" for writing a novel, or (3) with human inputs.\n",
      "Another quite distinct approach, LLM+P (Liu et al. 2023), involves relying on an external classical planner to do long-horizon planning. This approach utilizes the Planning Domain Definition Language (PDDL) as an intermediate interface to describe the planning problem. In this process, LLM (1) translates the problem into “Problem PDDL”, then (2) requests a classical planner to generate a PDDL plan based on an existing “Domain PDDL”, and finally (3) translates the PDDL plan back into natural language. Essentially, the planning step is outsourced to an external tool, assuming the availability of domain-specific PDDL and a suitable planner which is common in certain robotic setups but not in many other domains.\n",
      "Self-Reflection#\n",
      "\n",
      "Source: {'source': 'https://lilianweng.github.io/posts/2023-06-23-agent/'}\n",
      "Content: Task decomposition can be done (1) by LLM with simple prompting like \"Steps for XYZ.\\n1.\", \"What are the subgoals for achieving XYZ?\", (2) by using task-specific instructions; e.g. \"Write a story outline.\" for writing a novel, or (3) with human inputs.\n",
      "Another quite distinct approach, LLM+P (Liu et al. 2023), involves relying on an external classical planner to do long-horizon planning. This approach utilizes the Planning Domain Definition Language (PDDL) as an intermediate interface to describe the planning problem. In this process, LLM (1) translates the problem into “Problem PDDL”, then (2) requests a classical planner to generate a PDDL plan based on an existing “Domain PDDL”, and finally (3) translates the PDDL plan back into natural language. Essentially, the planning step is outsourced to an external tool, assuming the availability of domain-specific PDDL and a suitable planner which is common in certain robotic setups but not in many other domains.\n",
      "Self-Reflection#\n",
      "==================================\u001b[1m Ai Message \u001b[0m==================================\n",
      "\n",
      "Task decomposition is a process that can be performed in several ways. It can be done by a Large Language Model (LLM) using simple prompts like \"Steps for XYZ.\" or \"What are the subgoals for achieving XYZ?\". Alternatively, it can involve task-specific instructions, such as \"Write a story outline\" for a novel, or be guided by human inputs.\n"
     ]
    }
   ],
   "source": [
    "def ask(input_message):\n",
    "    for step in graph.stream(\n",
    "        {\"messages\": [{'role': 'user', 'content': input_message}]},\n",
    "        stream_mode='values',\n",
    "        config=config\n",
    "    ):\n",
    "        step['messages'][-1].pretty_print()\n",
    "\n",
    "ask(input_message = \"what's task decomposition?\")"
   ]
  },
  {
   "cell_type": "code",
   "execution_count": 17,
   "id": "beb486d0",
   "metadata": {},
   "outputs": [
    {
     "name": "stdout",
     "output_type": "stream",
     "text": [
      "================================\u001b[1m Human Message \u001b[0m=================================\n",
      "\n",
      "Can you look up some common ways of doing it?\n",
      "==================================\u001b[1m Ai Message \u001b[0m==================================\n",
      "\n",
      "Task decomposition can be achieved through several common methods:\n",
      "\n",
      "1.  **Using an LLM with simple prompting:** This involves giving the LLM prompts like \"Steps for XYZ\" or \"What are the subgoals for achieving XYZ?\" to break down a task.\n",
      "2.  **Using task-specific instructions:** This approach utilizes pre-defined instructions tailored to a specific task, for example, \"Write a story outline\" when the overall task is to write a novel.\n",
      "3.  **Human inputs:** Direct human guidance and input can also be used to decompose tasks.\n",
      "\n",
      "Additionally, a more distinct approach called LLM+P (Liu et al. 2023) involves using an external classical planner for long-horizon planning. This method translates the problem into \"Problem PDDL\" (Planning Domain Definition Language), uses a classical planner to generate a PDDL plan based on an existing \"Domain PDDL,\" and then translates the PDDL plan back into natural language. This essentially outsources the planning step to an external tool, often seen in robotic setups.\n"
     ]
    }
   ],
   "source": [
    "ask(input_message = \"Can you look up some common ways of doing it?\")"
   ]
  },
  {
   "cell_type": "markdown",
   "id": "95f8f67f",
   "metadata": {},
   "source": [
    "## Agent\n",
    "\n",
    "agent 和 上面的的方法的关键区别在于：工具调用之后会循环回到原始的 LLM 调用。模型可以自行决定使用检索文本回答问题，或是生成另一个 tool call 来获得更多的信息"
   ]
  },
  {
   "cell_type": "code",
   "execution_count": 18,
   "id": "8f54547c",
   "metadata": {},
   "outputs": [
    {
     "data": {
      "image/png": "[encoded data removed]",
      "text/plain": [
       "<IPython.core.display.Image object>"
      ]
     },
     "metadata": {},
     "output_type": "display_data"
    }
   ],
   "source": [
    "from langgraph.prebuilt import create_react_agent\n",
    "\n",
    "agent_executor = create_react_agent(llm, [retrieve], checkpointer=memory)\n",
    "display(Image(agent_executor.get_graph().draw_mermaid_png()))"
   ]
  },
  {
   "cell_type": "code",
   "execution_count": 19,
   "id": "81a3226d",
   "metadata": {},
   "outputs": [
    {
     "name": "stdout",
     "output_type": "stream",
     "text": [
      "================================\u001b[1m Human Message \u001b[0m=================================\n",
      "\n",
      "What is the standard method for Task Decomposition?\n",
      "\n",
      "Once you get the answer, look up common extensions of that method.\n",
      "==================================\u001b[1m Ai Message \u001b[0m==================================\n",
      "Tool Calls:\n",
      "  retrieve (02c25bcc-dbe8-44ad-9396-26481d328ecd)\n",
      " Call ID: 02c25bcc-dbe8-44ad-9396-26481d328ecd\n",
      "  Args:\n",
      "    query: standard method for Task Decomposition\n",
      "=================================\u001b[1m Tool Message \u001b[0m=================================\n",
      "Name: retrieve\n",
      "\n",
      "Source: {'source': 'https://lilianweng.github.io/posts/2023-06-23-agent/'}\n",
      "Content: Task decomposition can be done (1) by LLM with simple prompting like \"Steps for XYZ.\\n1.\", \"What are the subgoals for achieving XYZ?\", (2) by using task-specific instructions; e.g. \"Write a story outline.\" for writing a novel, or (3) with human inputs.\n",
      "Another quite distinct approach, LLM+P (Liu et al. 2023), involves relying on an external classical planner to do long-horizon planning. This approach utilizes the Planning Domain Definition Language (PDDL) as an intermediate interface to describe the planning problem. In this process, LLM (1) translates the problem into “Problem PDDL”, then (2) requests a classical planner to generate a PDDL plan based on an existing “Domain PDDL”, and finally (3) translates the PDDL plan back into natural language. Essentially, the planning step is outsourced to an external tool, assuming the availability of domain-specific PDDL and a suitable planner which is common in certain robotic setups but not in many other domains.\n",
      "Self-Reflection#\n",
      "\n",
      "Source: {'source': 'https://lilianweng.github.io/posts/2023-06-23-agent/'}\n",
      "Content: Task decomposition can be done (1) by LLM with simple prompting like \"Steps for XYZ.\\n1.\", \"What are the subgoals for achieving XYZ?\", (2) by using task-specific instructions; e.g. \"Write a story outline.\" for writing a novel, or (3) with human inputs.\n",
      "Another quite distinct approach, LLM+P (Liu et al. 2023), involves relying on an external classical planner to do long-horizon planning. This approach utilizes the Planning Domain Definition Language (PDDL) as an intermediate interface to describe the planning problem. In this process, LLM (1) translates the problem into “Problem PDDL”, then (2) requests a classical planner to generate a PDDL plan based on an existing “Domain PDDL”, and finally (3) translates the PDDL plan back into natural language. Essentially, the planning step is outsourced to an external tool, assuming the availability of domain-specific PDDL and a suitable planner which is common in certain robotic setups but not in many other domains.\n",
      "Self-Reflection#\n",
      "==================================\u001b[1m Ai Message \u001b[0m==================================\n",
      "\n",
      "The standard methods for Task Decomposition often involve:\n",
      "\n",
      "1.  **LLM with simple prompting**: This includes using prompts such as \"Steps for XYZ.\\n1.\" or \"What are the subgoals for achieving XYZ?\".\n",
      "2.  **Task-specific instructions**: Providing explicit instructions tailored to the task, for example, \"Write a story outline\" when the goal is to write a novel.\n",
      "3.  **Human inputs**: Directly incorporating human guidance and expertise in breaking down the task.\n",
      "\n",
      "A distinct and more advanced approach, which can be considered an extension, is **LLM+P (Liu et al. 2023)**. This method relies on an external classical planner for long-horizon planning and involves the following steps:\n",
      "\n",
      "1.  An LLM translates the problem into \"Problem PDDL\" (Planning Domain Definition Language).\n",
      "2.  A classical planner then generates a PDDL plan based on an existing \"Domain PDDL\".\n",
      "3.  Finally, the LLM translates the PDDL plan back into natural language.\n",
      "\n",
      "This LLM+P approach essentially outsources the planning step to an external tool, which is common in specific setups like robotics but less so in other domains.\n"
     ]
    }
   ],
   "source": [
    "config = {\"configurable\": {\"thread_id\": \"def234\"}}\n",
    "\n",
    "input_message = (\n",
    "    \"What is the standard method for Task Decomposition?\\n\\n\"\n",
    "    \"Once you get the answer, look up common extensions of that method.\"\n",
    ")\n",
    "\n",
    "for event in agent_executor.stream(\n",
    "    {\"messages\": [{\"role\": \"user\", \"content\": input_message}]},\n",
    "    stream_mode=\"values\",\n",
    "    config=config,\n",
    "):\n",
    "    event[\"messages\"][-1].pretty_print()"
   ]
  }
 ],
 "metadata": {
  "kernelspec": {
   "display_name": "langchain",
   "language": "python",
   "name": "python3"
  },
  "language_info": {
   "codemirror_mode": {
    "name": "ipython",
    "version": 3
   },
   "file_extension": ".py",
   "mimetype": "text/x-python",
   "name": "python",
   "nbconvert_exporter": "python",
   "pygments_lexer": "ipython3",
   "version": "3.9.23"
  }
 },
 "nbformat": 4,
 "nbformat_minor": 5
}
