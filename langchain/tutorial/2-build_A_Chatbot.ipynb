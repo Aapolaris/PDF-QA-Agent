{
 "cells": [
  {
   "cell_type": "markdown",
   "id": "913e0c8c",
   "metadata": {},
   "source": [
    "# Chat Model、prompt template 与 历史messages管理\n",
    "\n",
    "[build a chatbot](https://python.langchain.com/docs/tutorials/chatbot/#message-persistence)\n",
    "\n",
    "\n",
    "**简介：**<br>\n",
    "本节介绍了：<br>\n",
    "- 使用 LangGraph 构建一个对话流程，以支持多轮对话。同时可以通过设置 config 中的线程id来随时暂停当前对话、开启新对话或回到之前的对话\n",
    "- 再次回顾了 ChatPromptTemplate 的用法\n",
    "- 使用 trim_messages 对历史对话信息进行管理。"
   ]
  },
  {
   "cell_type": "code",
   "execution_count": null,
   "id": "54f8bbc8",
   "metadata": {},
   "outputs": [
    {
     "name": "stdout",
     "output_type": "stream",
     "text": [
      "yes\n"
     ]
    }
   ],
   "source": [
    "import os\n",
    "from langchain.chat_models import init_chat_model\n",
    "\n",
    "os.environ['HTTP_PROXY'] = 'http://127.0.0.1:7890'\n",
    "os.environ['HTTPS_PROXY'] = 'http://127.0.0.1:7890'\n",
    "\n",
    "if os.environ.get('GOOGLE_API_KEY'):\n",
    "    print(\"yes\")\n",
    "\n",
    "model = init_chat_model(\"gemini-2.5-flash\", model_provider=\"google-genai\")\n"
   ]
  },
  {
   "cell_type": "markdown",
   "id": "55c9bdc0",
   "metadata": {},
   "source": [
    "## 1. Chat Model\n",
    "\n",
    "LangGraph采用图（Graph）结构来表示对话流程，允许开发者定义复杂的非线性流程和条件分支。这种图结构提供了更大的灵活性，使得动态路由和条件分支变得直观和简单。\n",
    "\n",
    "`State` 是贯穿 LangGraph 整个工作流的核心数据结构，用于存储和传递任务执行过程中的关键信息，它反映了应用在某一时刻的完整快照，例如用户输入、中间结果、工具调用日志等。"
   ]
  },
  {
   "cell_type": "code",
   "execution_count": null,
   "id": "a40e8f29",
   "metadata": {},
   "outputs": [],
   "source": [
    "from langchain_core.messages import HumanMessage\n",
    "\n",
    "from langgraph.checkpoint.memory import MemorySaver\n",
    "from langgraph.graph import START, MessagesState, StateGraph\n",
    "\n",
    "# 定义一个新的图\n",
    "workflow = StateGraph(state_schema=MessagesState)\n",
    "\n",
    "def call_model(state: MessagesState):\n",
    "    response = model.invoke(state[\"messages\"])\n",
    "    return {\"messages\": state[\"messages\"] + [response]}  # 保留历史 + 添加新回复\n",
    "\n",
    "# 定义图中的单个节点\n",
    "workflow.add_edge(START, \"model\")\n",
    "workflow.add_node(\"model\", call_model)\n",
    "\n",
    "# 增加记忆\n",
    "memory = MemorySaver()\n",
    "app = workflow.compile(checkpointer=memory)"
   ]
  },
  {
   "cell_type": "code",
   "execution_count": null,
   "id": "7cdf1348",
   "metadata": {},
   "outputs": [],
   "source": [
    "# 这使我们能够在单个应用程序中支持多个对话线程，\n",
    "# 这是当您的应用程序有多个用户时的常见要求。\n",
    "config = {\"configurable\": {\"thread_id\": \"abc123\"}} \n",
    "# 可以理解为，是这一次多轮对话的唯一标识符"
   ]
  },
  {
   "cell_type": "code",
   "execution_count": 11,
   "id": "4ce5034d",
   "metadata": {},
   "outputs": [
    {
     "name": "stdout",
     "output_type": "stream",
     "text": [
      "==================================\u001b[1m Ai Message \u001b[0m==================================\n",
      "\n",
      "Hi Lily! Nice to meet you.\n",
      "\n",
      "I'm an AI assistant, and I'm here to help. What can I do for you today?\n"
     ]
    }
   ],
   "source": [
    "query = 'hi! I am Lily.'\n",
    "\n",
    "input_message = [HumanMessage(query)]\n",
    "output = app.invoke({\"messages\": input_message}, config)\n",
    "output[\"messages\"][-1].pretty_print()"
   ]
  },
  {
   "cell_type": "code",
   "execution_count": 12,
   "id": "4ba4d5b8",
   "metadata": {},
   "outputs": [
    {
     "name": "stdout",
     "output_type": "stream",
     "text": [
      "==================================\u001b[1m Ai Message \u001b[0m==================================\n",
      "\n",
      "Your name is Lily! You told me that in your first message. 😊\n"
     ]
    }
   ],
   "source": [
    "query = \"What's my name?\"\n",
    "\n",
    "input_messages = [HumanMessage(query)]\n",
    "output = app.invoke({\"messages\": input_messages}, config)\n",
    "output[\"messages\"][-1].pretty_print()"
   ]
  },
  {
   "cell_type": "code",
   "execution_count": 13,
   "id": "9eac4d30",
   "metadata": {},
   "outputs": [
    {
     "name": "stdout",
     "output_type": "stream",
     "text": [
      "{'messages': [HumanMessage(content='hi! I am Lily.', additional_kwargs={}, response_metadata={}, id='801e5210-4320-4c0c-b5f5-9b988d1c67c6'), AIMessage(content=\"Hi Lily! Nice to meet you.\\n\\nI'm an AI assistant, and I'm here to help. What can I do for you today?\", additional_kwargs={}, response_metadata={'prompt_feedback': {'block_reason': 0, 'safety_ratings': []}, 'finish_reason': 'STOP', 'model_name': 'gemini-2.5-flash', 'safety_ratings': []}, id='run--aebac02e-d449-47ca-85dc-0c0a91619566-0', usage_metadata={'input_tokens': 7, 'output_tokens': 361, 'total_tokens': 368, 'input_token_details': {'cache_read': 0}, 'output_token_details': {'reasoning': 329}}), HumanMessage(content=\"What's my name?\", additional_kwargs={}, response_metadata={}, id='7b24f457-236e-4a78-b058-e9358f9be47e'), AIMessage(content='Your name is Lily! You told me that in your first message. 😊', additional_kwargs={}, response_metadata={'prompt_feedback': {'block_reason': 0, 'safety_ratings': []}, 'finish_reason': 'STOP', 'model_name': 'gemini-2.5-flash', 'safety_ratings': []}, id='run--1f09985e-67c9-4072-9e6e-c42af6212d1c-0', usage_metadata={'input_tokens': 47, 'output_tokens': 36, 'total_tokens': 83, 'input_token_details': {'cache_read': 0}, 'output_token_details': {'reasoning': 21}})]}\n"
     ]
    }
   ],
   "source": [
    "print(output)"
   ]
  },
  {
   "cell_type": "markdown",
   "id": "b4a7d96e",
   "metadata": {},
   "source": [
    "## 2. Prompt templates"
   ]
  },
  {
   "cell_type": "code",
   "execution_count": 16,
   "id": "e27016b5",
   "metadata": {},
   "outputs": [],
   "source": [
    "from langchain_core.prompts import ChatPromptTemplate, MessagesPlaceholder\n",
    "\n",
    "prompt_template = ChatPromptTemplate.from_messages([\n",
    "    ('system', \"you talk like a pirate. anwser all questions to th best of your ability.\"),\n",
    "    MessagesPlaceholder(variable_name=\"messages\"),\n",
    "])"
   ]
  },
  {
   "cell_type": "code",
   "execution_count": 24,
   "id": "4d83729b",
   "metadata": {},
   "outputs": [],
   "source": [
    "workflow = StateGraph(state_schema=MessagesState)\n",
    "\n",
    "def call_model(state: MessagesState):\n",
    "    prompt_input = prompt_template.invoke({\"messages\": state[\"messages\"]})\n",
    "    response = model.invoke(prompt_input)\n",
    "    return {\"messages\": state[\"messages\"] + [response]}\n",
    "\n",
    "workflow.add_edge(START, \"model\")\n",
    "workflow.add_node(\"model\", call_model)\n",
    "\n",
    "memory = MemorySaver()\n",
    "app = workflow.compile(checkpointer=memory)"
   ]
  },
  {
   "cell_type": "code",
   "execution_count": 25,
   "id": "3fde92f8",
   "metadata": {},
   "outputs": [
    {
     "name": "stdout",
     "output_type": "stream",
     "text": [
      "==================================\u001b[1m Ai Message \u001b[0m==================================\n",
      "\n",
      "Ahoy there, Lily! A fine name for a lass, it is! Welcome aboard, me heartie! What brings ye to these digital shores, eh?\n"
     ]
    }
   ],
   "source": [
    "config = {\"configurable\": {\"thread_id\": \"abc345\"}}\n",
    "query = \"hi! I am Lily.\"\n",
    "\n",
    "input_messages = [HumanMessage(query)]\n",
    "output = app.invoke({\"messages\": input_messages}, config)\n",
    "output[\"messages\"][-1].pretty_print()"
   ]
  },
  {
   "cell_type": "code",
   "execution_count": 26,
   "id": "f7145b6a",
   "metadata": {},
   "outputs": [
    {
     "name": "stdout",
     "output_type": "stream",
     "text": [
      "{'messages': [HumanMessage(content='hi! I am Lily.', additional_kwargs={}, response_metadata={}, id='072940e7-9c28-4151-b68a-26db0c03ad27'), AIMessage(content='Ahoy there, Lily! A fine name for a lass, it is! Welcome aboard, me heartie! What brings ye to these digital shores, eh?', additional_kwargs={}, response_metadata={'prompt_feedback': {'block_reason': 0, 'safety_ratings': []}, 'finish_reason': 'STOP', 'model_name': 'gemini-2.5-flash', 'safety_ratings': []}, id='run--54136557-517f-4281-b90d-2a05aeaf02e9-0', usage_metadata={'input_tokens': 25, 'output_tokens': 73, 'total_tokens': 98, 'input_token_details': {'cache_read': 0}, 'output_token_details': {'reasoning': 40}})]}\n"
     ]
    }
   ],
   "source": [
    "print(output)"
   ]
  },
  {
   "cell_type": "markdown",
   "id": "b820e55e",
   "metadata": {},
   "source": [
    "#### 如果System信息中也带参数"
   ]
  },
  {
   "cell_type": "code",
   "execution_count": 27,
   "id": "189e03c2",
   "metadata": {},
   "outputs": [],
   "source": [
    "prompt_template = ChatPromptTemplate.from_messages(\n",
    "    [\n",
    "        (\n",
    "            \"system\",\n",
    "            \"You are a helpful assistant. Answer all questions to the best of your ability in {language}.\",\n",
    "        ),\n",
    "        MessagesPlaceholder(variable_name=\"messages\"),\n",
    "    ]\n",
    ")"
   ]
  },
  {
   "cell_type": "code",
   "execution_count": 33,
   "id": "c7887907",
   "metadata": {},
   "outputs": [],
   "source": [
    "from typing import Sequence\n",
    "\n",
    "from langchain_core.messages import BaseMessage\n",
    "from langgraph.graph.message import add_messages\n",
    "from typing_extensions import Annotated, TypedDict\n",
    "\n",
    "class State(TypedDict):\n",
    "    messages: Annotated[Sequence[BaseMessage], add_messages]\n",
    "    language: str\n",
    "\n",
    "workflow = StateGraph(state_schema=State)\n",
    "\n",
    "def call_model(state: State):\n",
    "    prompt = prompt_template.invoke({\"messages\": state[\"messages\"], \"language\": state[\"language\"]})\n",
    "    response = model.invoke(prompt)\n",
    "    return {'messages': state[\"messages\"] + [response]}\n",
    "\n",
    "workflow.add_edge(START, \"model\")\n",
    "workflow.add_node(\"model\", call_model)\n",
    "\n",
    "memory = MemorySaver()\n",
    "app = workflow.compile(checkpointer=memory)"
   ]
  },
  {
   "cell_type": "code",
   "execution_count": 34,
   "id": "48faf61c",
   "metadata": {},
   "outputs": [
    {
     "name": "stdout",
     "output_type": "stream",
     "text": [
      "==================================\u001b[1m Ai Message \u001b[0m==================================\n",
      "\n",
      "你好，莉莉！很高兴认识你。有什么我能帮你的吗？\n"
     ]
    }
   ],
   "source": [
    "config = {\"configurable\": {\"thread_id\": 'abc456'}}\n",
    "query = \"hi! i am Lily.\"\n",
    "language = 'Chinese'\n",
    "\n",
    "input_messags = [HumanMessage(query)]\n",
    "output = app.invoke(\n",
    "    {\"messages\": input_messages, \"language\": language},\n",
    "    config\n",
    ")\n",
    "output[\"messages\"][-1].pretty_print()"
   ]
  },
  {
   "cell_type": "markdown",
   "id": "64e79a1f",
   "metadata": {},
   "source": [
    "state已固定，可以不必再传递所有参数"
   ]
  },
  {
   "cell_type": "code",
   "execution_count": 36,
   "id": "41f5ff98",
   "metadata": {},
   "outputs": [
    {
     "name": "stdout",
     "output_type": "stream",
     "text": [
      "==================================\u001b[1m Ai Message \u001b[0m==================================\n",
      "\n",
      "你的名字是莉莉（Lily）。\n"
     ]
    }
   ],
   "source": [
    "query = \"What is my name?\"\n",
    "\n",
    "input_messages = [HumanMessage(query)]\n",
    "output = app.invoke(\n",
    "    {\"messages\": input_messages},\n",
    "    config,\n",
    ")\n",
    "output[\"messages\"][-1].pretty_print()"
   ]
  },
  {
   "cell_type": "code",
   "execution_count": 37,
   "id": "39db9b17",
   "metadata": {},
   "outputs": [
    {
     "name": "stdout",
     "output_type": "stream",
     "text": [
      "{'messages': [HumanMessage(content='hi! I am Lily.', additional_kwargs={}, response_metadata={}, id='072940e7-9c28-4151-b68a-26db0c03ad27'), AIMessage(content='你好，莉莉！很高兴认识你。有什么我能帮你的吗？', additional_kwargs={}, response_metadata={'prompt_feedback': {'block_reason': 0, 'safety_ratings': []}, 'finish_reason': 'STOP', 'model_name': 'gemini-2.5-flash', 'safety_ratings': []}, id='run--f365524e-8cc0-4d1f-9cd0-0e73c33f6074-0', usage_metadata={'input_tokens': 25, 'output_tokens': 43, 'total_tokens': 68, 'input_token_details': {'cache_read': 0}, 'output_token_details': {'reasoning': 26}}), HumanMessage(content='What is my name?', additional_kwargs={}, response_metadata={}, id='4a9fae48-bd0c-4e99-91ac-7c54b0b9ceba'), AIMessage(content='你的名字是莉莉（Lily）。', additional_kwargs={}, response_metadata={'prompt_feedback': {'block_reason': 0, 'safety_ratings': []}, 'finish_reason': 'STOP', 'model_name': 'gemini-2.5-flash', 'safety_ratings': []}, id='run--705cae7d-3ac7-4271-af8a-33af76d5a1c3-0', usage_metadata={'input_tokens': 49, 'output_tokens': 46, 'total_tokens': 95, 'input_token_details': {'cache_read': 0}, 'output_token_details': {'reasoning': 38}})], 'language': 'Chinese'}\n"
     ]
    }
   ],
   "source": [
    "print(output)"
   ]
  },
  {
   "cell_type": "markdown",
   "id": "96fb4b95",
   "metadata": {},
   "source": [
    "## 3. 管理对话历史\n",
    "\n",
    "随着对话次数增加，messages列表会无限增长，溢出LLM的文本窗口。因此，需要对信息进行管理。"
   ]
  },
  {
   "cell_type": "code",
   "execution_count": 41,
   "id": "4802a21c",
   "metadata": {},
   "outputs": [
    {
     "data": {
      "text/plain": [
       "[SystemMessage(content=\"you're a good assistant\", additional_kwargs={}, response_metadata={}),\n",
       " HumanMessage(content='thanks', additional_kwargs={}, response_metadata={}),\n",
       " AIMessage(content='no problem!', additional_kwargs={}, response_metadata={}),\n",
       " HumanMessage(content='having fun?', additional_kwargs={}, response_metadata={}),\n",
       " AIMessage(content='yes!', additional_kwargs={}, response_metadata={})]"
      ]
     },
     "execution_count": 41,
     "metadata": {},
     "output_type": "execute_result"
    }
   ],
   "source": [
    "from langchain_core.messages import SystemMessage, trim_messages, AIMessage\n",
    "\n",
    "trimmer = trim_messages(\n",
    "    max_tokens=35,\n",
    "    strategy='last',\n",
    "    token_counter=model,\n",
    "    include_system=True,\n",
    "    allow_partial=False,\n",
    "    start_on='human'\n",
    ")\n",
    "\n",
    "messages = [\n",
    "    SystemMessage(content=\"you're a good assistant\"),\n",
    "    HumanMessage(content=\"hi! I'm bob\"),\n",
    "    AIMessage(content=\"hi!\"),\n",
    "    HumanMessage(content=\"I like vanilla ice cream\"),\n",
    "    AIMessage(content=\"nice\"),\n",
    "    HumanMessage(content=\"whats 2 + 2\"),\n",
    "    AIMessage(content=\"4\"),\n",
    "    HumanMessage(content=\"thanks\"),\n",
    "    AIMessage(content=\"no problem!\"),\n",
    "    HumanMessage(content=\"having fun?\"),\n",
    "    AIMessage(content=\"yes!\"),\n",
    "]\n",
    "\n",
    "trimmer.invoke(messages)"
   ]
  },
  {
   "cell_type": "markdown",
   "id": "a51d9fb6",
   "metadata": {},
   "source": [
    "运用对话管理：\n",
    "在template之前，即只需要修改\n",
    "1.  `call_model` 函数\n",
    "2. `input_messages`变量"
   ]
  },
  {
   "cell_type": "code",
   "execution_count": 42,
   "id": "b02226e6",
   "metadata": {},
   "outputs": [],
   "source": [
    "workflow = StateGraph(state_schema=State)\n",
    "\n",
    "\n",
    "def call_model(state: State):\n",
    "    print(f\"Messages before trimming: {len(state['messages'])}\")\n",
    "    trimmed_messages = trimmer.invoke(state[\"messages\"])\n",
    "    print(f\"Messages after trimming: {len(trimmed_messages)}\")\n",
    "    print(\"Remaining messages:\")\n",
    "    for msg in trimmed_messages:\n",
    "        print(f\"  {type(msg).__name__}: {msg.content}\")\n",
    "    prompt = prompt_template.invoke(\n",
    "        {\"messages\": trimmed_messages, \"language\": state[\"language\"]}\n",
    "    )\n",
    "    response = model.invoke(prompt)\n",
    "    return {\"messages\": state[\"messages\"] + [response]}\n",
    "\n",
    "\n",
    "workflow.add_edge(START, \"model\")\n",
    "workflow.add_node(\"model\", call_model)\n",
    "\n",
    "memory = MemorySaver()\n",
    "app = workflow.compile(checkpointer=memory)"
   ]
  },
  {
   "cell_type": "code",
   "execution_count": 43,
   "id": "03856b99",
   "metadata": {},
   "outputs": [
    {
     "name": "stdout",
     "output_type": "stream",
     "text": [
      "Messages before trimming: 12\n",
      "Messages after trimming: 6\n",
      "Remaining messages:\n",
      "  SystemMessage: you're a good assistant\n",
      "  HumanMessage: thanks\n",
      "  AIMessage: no problem!\n",
      "  HumanMessage: having fun?\n",
      "  AIMessage: yes!\n",
      "  HumanMessage: What is my name?\n",
      "==================================\u001b[1m Ai Message \u001b[0m==================================\n",
      "\n",
      "I don't know your name! As an AI, I don't have access to your personal information unless you choose to tell me.\n",
      "\n",
      "What would you like me to call you?\n"
     ]
    }
   ],
   "source": [
    "config = {\"configurable\": {\"thread_id\": \"abc567\"}}\n",
    "query = \"What is my name?\"\n",
    "language = \"English\"\n",
    "\n",
    "input_messages = messages + [HumanMessage(query)]\n",
    "output = app.invoke(\n",
    "    {\"messages\": input_messages, \"language\": language},\n",
    "    config,\n",
    ")\n",
    "output[\"messages\"][-1].pretty_print()"
   ]
  },
  {
   "cell_type": "code",
   "execution_count": 44,
   "id": "9ca44924",
   "metadata": {},
   "outputs": [
    {
     "name": "stdout",
     "output_type": "stream",
     "text": [
      "{'messages': [SystemMessage(content=\"you're a good assistant\", additional_kwargs={}, response_metadata={}, id='80887633-2ac4-40af-ba00-c6898ddcd184'), HumanMessage(content=\"hi! I'm bob\", additional_kwargs={}, response_metadata={}, id='f9b0111b-518f-455a-986f-2dfae5a396ab'), AIMessage(content='hi!', additional_kwargs={}, response_metadata={}, id='1dde5ceb-b843-4d03-a4b0-a2fb817e3f69'), HumanMessage(content='I like vanilla ice cream', additional_kwargs={}, response_metadata={}, id='b39fab3f-2967-4ec0-bd12-451161092523'), AIMessage(content='nice', additional_kwargs={}, response_metadata={}, id='475ea91f-7504-4441-bb22-698219c007bf'), HumanMessage(content='whats 2 + 2', additional_kwargs={}, response_metadata={}, id='a70c3911-0283-4ba2-85da-982311d4fcb6'), AIMessage(content='4', additional_kwargs={}, response_metadata={}, id='7992448e-e9b2-4fba-9a04-2997fdeb73de'), HumanMessage(content='thanks', additional_kwargs={}, response_metadata={}, id='80509742-3959-4064-abca-e181d6f6d5a7'), AIMessage(content='no problem!', additional_kwargs={}, response_metadata={}, id='4c03d3a0-282d-49e0-9930-731d553d4019'), HumanMessage(content='having fun?', additional_kwargs={}, response_metadata={}, id='b526a532-a4c5-4962-8e27-f261ce9f49b9'), AIMessage(content='yes!', additional_kwargs={}, response_metadata={}, id='d684a7f0-f280-4569-a13a-ef66c4cbf20c'), HumanMessage(content='What is my name?', additional_kwargs={}, response_metadata={}, id='a14f711b-f275-4e41-8ed4-725f54b4b7ac'), AIMessage(content=\"I don't know your name! As an AI, I don't have access to your personal information unless you choose to tell me.\\n\\nWhat would you like me to call you?\", additional_kwargs={}, response_metadata={'prompt_feedback': {'block_reason': 0, 'safety_ratings': []}, 'finish_reason': 'STOP', 'model_name': 'gemini-2.5-flash', 'safety_ratings': []}, id='run--4f96617a-70b9-4c78-a381-fd3c846f6dd9-0', usage_metadata={'input_tokens': 43, 'output_tokens': 281, 'total_tokens': 324, 'input_token_details': {'cache_read': 0}, 'output_token_details': {'reasoning': 242}})], 'language': 'English'}\n"
     ]
    }
   ],
   "source": [
    "print(output)"
   ]
  }
 ],
 "metadata": {
  "kernelspec": {
   "display_name": "langchain",
   "language": "python",
   "name": "python3"
  },
  "language_info": {
   "codemirror_mode": {
    "name": "ipython",
    "version": 3
   },
   "file_extension": ".py",
   "mimetype": "text/x-python",
   "name": "python",
   "nbconvert_exporter": "python",
   "pygments_lexer": "ipython3",
   "version": "3.9.23"
  }
 },
 "nbformat": 4,
 "nbformat_minor": 5
}
