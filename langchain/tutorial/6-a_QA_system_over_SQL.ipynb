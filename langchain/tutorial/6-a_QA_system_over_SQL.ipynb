{
 "cells": [
  {
   "cell_type": "markdown",
   "id": "07cf5388",
   "metadata": {},
   "source": [
    "# Build A QA System over SQL Data\n",
    "[build a QA system over sql data](https://python.langchain.com/docs/tutorials/sql_qa/)\n",
    "\n",
    "> Prerequisite knowledge: <br>\n",
    "> [chat model](https://python.langchain.com/docs/concepts/chat_models/)、[Tools](https://python.langchain.com/docs/concepts/tools/)、[Agent](https://python.langchain.com/docs/concepts/agents/)、[LangGraph](https://python.langchain.com/docs/concepts/architecture/#langgraph)\n",
    "\n",
    "本节将介绍两种通过数据库中的表格数据创建QA系统的基本方法：\n",
    "- **Chains**: 按照 “生成查询语句 --> 执行查询 --> 生成答案” 的流程进行。并尝试在执行查询之前加入中断操作，人为判断后再执行接下来的步骤（即人工审核查询语句是否合法、正确）。其中还简单使用了一下**模型的结构化输出**\n",
    "- **Agents**: 仍然使用 `create_react_agent` 来构建Agent。其中的工具部分，使用 `SQLDatabaseToolkit` 提供的各种工具，允许agent调用不同工具直到获得答案。另外，针对一些专有名词，为它们构建了一个向量数据库，并把数据库的检索器包装为工具，并补充原来的 `prompt` ，由此针对部分专有名词实现简单的“模糊搜索”\n",
    "\n",
    "二者的区别在于后者可以在数据库中任意查询多次知道找到答案，而前者只能按照预设的步骤进行\n",
    "\n",
    "> ⚠️ 注意 ⚠️<br>\n",
    "> 构建一个模型驱动的系统可能会给数据库带来风险。因此，请确保使用权限尽可能狭窄。更多的与安全有关的实践[请看这里](https://python.langchain.com/docs/security/)\n",
    "\n",
    "系统构建的步骤：\n",
    "1. 使用模型把问题转化为SQL查询语句\n",
    "2. 在数据库中执行查询\n",
    "3. 模型根据查询结构回答问题\n",
    "\n",
    "如果数据存储在csv文件，有更简单的查询方法： [how to do QA over CSVs](https://python.langchain.com/docs/how_to/sql_csv/)"
   ]
  },
  {
   "cell_type": "markdown",
   "id": "0ee284f4",
   "metadata": {},
   "source": [
    "## Setup\n",
    "\n",
    "关于数据库，官方给出了[官方下载教程](\"D:\\PersonalLearning\\20250926_LangChian\\langchain\\tutorial\\Chinook.db\")。这里由于本人本身就有 Navicat ，不想下载新的，因此直接在 Navicat 新建了个 SQLite 数据库连接，把数据导入进去了\n",
    "\n",
    "> 它给出的 sql 脚本( 从 github 下载)，导入的时候发现有一半的连接失败了...没有去找什么原因，反正暂时不影响练习......"
   ]
  },
  {
   "cell_type": "code",
   "execution_count": 2,
   "id": "e5892e3f",
   "metadata": {},
   "outputs": [
    {
     "name": "stdout",
     "output_type": "stream",
     "text": [
      "sqlite\n",
      "['Album', 'Artist', 'Customer', 'Employee', 'Genre', 'Invoice', 'InvoiceLine', 'MediaType', 'Playlist', 'PlaylistTrack', 'Track']\n",
      "[(1, 'AC/DC'), (2, 'Accept'), (3, 'Aerosmith'), (4, 'Alanis Morissette'), (5, 'Alice In Chains'), (6, 'Antônio Carlos Jobim'), (7, 'Apocalyptica'), (8, 'Audioslave'), (9, 'BackBeat'), (10, 'Billy Cobham')]\n"
     ]
    }
   ],
   "source": [
    "from langchain_community.utilities import SQLDatabase\n",
    "\n",
    "db = SQLDatabase.from_uri(\"sqlite:///D:/PersonalLearning/20250926_LangChian/langchain/tutorial/Chinook.db\")\n",
    "\n",
    "print(db.dialect)                  # sqlite\n",
    "print(db.get_usable_table_names()) # ['Album', 'Artist', 'Track', ...]\n",
    "print(db.run(\"SELECT * FROM Artist LIMIT 10;\"))\n"
   ]
  },
  {
   "cell_type": "markdown",
   "id": "ee279734",
   "metadata": {},
   "source": [
    "## Chains\n",
    "\n",
    "在 LangGraph 中，chains 可以由简单的 nodes 的序列表示"
   ]
  },
  {
   "cell_type": "markdown",
   "id": "02de88b4",
   "metadata": {},
   "source": [
    "### application state"
   ]
  },
  {
   "cell_type": "code",
   "execution_count": 3,
   "id": "79f63d4f",
   "metadata": {},
   "outputs": [],
   "source": [
    "from typing_extensions import TypedDict\n",
    "\n",
    "class State(TypedDict):\n",
    "    question: str\n",
    "    query: str\n",
    "    result: str\n",
    "    answer: str"
   ]
  },
  {
   "cell_type": "markdown",
   "id": "4b8018a9",
   "metadata": {},
   "source": [
    "### 1. convert question to SQL query"
   ]
  },
  {
   "cell_type": "code",
   "execution_count": 4,
   "id": "39d28d89",
   "metadata": {},
   "outputs": [],
   "source": [
    "import os\n",
    "from langchain.chat_models import init_chat_model\n",
    "\n",
    "os.environ.get('GOOGLE_API_KEY')\n",
    "os.environ['HTTP_PROXY'] = 'http://127.0.0.1:7890'\n",
    "os.environ['HTTPS_PROXY'] = 'http://127.0.0.1:7890'\n",
    "\n",
    "llm = init_chat_model(\"gemini-2.5-flash\", model_provider='google-genai')"
   ]
  },
  {
   "cell_type": "markdown",
   "id": "7333703f",
   "metadata": {},
   "source": [
    "`tabel_info`： 这里指的是 `db.get_table_info()` 得到的是数据库中表的**建表语句 + 字段信息 + 示例行**，是连接 LLM 与数据库的桥梁"
   ]
  },
  {
   "cell_type": "code",
   "execution_count": 5,
   "id": "632fb192",
   "metadata": {},
   "outputs": [
    {
     "name": "stdout",
     "output_type": "stream",
     "text": [
      "================================\u001b[1m System Message \u001b[0m================================\n",
      "\n",
      "\n",
      "Given an input question, create a syntactically correct \u001b[33;1m\u001b[1;3m{dialect}\u001b[0m query to\n",
      "run to help find the answer. Unless the user specifies in his question a\n",
      "specific number of examples they wish to obtain, always limit your query to\n",
      "at most \u001b[33;1m\u001b[1;3m{top_k}\u001b[0m results. You can order the results by a relevant column to\n",
      "return the most interesting examples in the database.\n",
      "\n",
      "Never query for all the columns from a specific table, only ask for a the\n",
      "few relevant columns given the question.\n",
      "\n",
      "Pay attention to use only the column names that you can see in the schema\n",
      "description. Be careful to not query for columns that do not exist. Also,\n",
      "pay attention to which column is in which table.\n",
      "\n",
      "Only use the following tables:\n",
      "\u001b[33;1m\u001b[1;3m{table_info}\u001b[0m\n",
      "\n",
      "================================\u001b[1m Human Message \u001b[0m=================================\n",
      "\n",
      "Question: \u001b[33;1m\u001b[1;3m{input}\u001b[0m\n"
     ]
    }
   ],
   "source": [
    "from langchain_core.prompts import ChatPromptTemplate\n",
    "\n",
    "system_message = \"\"\"\n",
    "Given an input question, create a syntactically correct {dialect} query to\n",
    "run to help find the answer. Unless the user specifies in his question a\n",
    "specific number of examples they wish to obtain, always limit your query to\n",
    "at most {top_k} results. You can order the results by a relevant column to\n",
    "return the most interesting examples in the database.\n",
    "\n",
    "Never query for all the columns from a specific table, only ask for a the\n",
    "few relevant columns given the question.\n",
    "\n",
    "Pay attention to use only the column names that you can see in the schema\n",
    "description. Be careful to not query for columns that do not exist. Also,\n",
    "pay attention to which column is in which table.\n",
    "\n",
    "Only use the following tables:\n",
    "{table_info}\n",
    "\"\"\"\n",
    "\n",
    "user_prompt = \"Question: {input}\"\n",
    "\n",
    "query_prompt_template = ChatPromptTemplate(\n",
    "    [('system', system_message), ('user', user_prompt)]\n",
    ")\n",
    "\n",
    "for message in query_prompt_template.messages:\n",
    "    message.pretty_print()"
   ]
  },
  {
   "cell_type": "markdown",
   "id": "6d90fb95",
   "metadata": {},
   "source": [
    "**模型的结构化输出：**`llm.with_structed_output(QueryOutput)` ，其中 `llm` 是聊天模型，`QueryOutput` 是自定义的 `TypeDict` 类对象\n",
    "\n",
    "**注意：** 模型的结构化输出，需要使用的模型支持结构化输出才行"
   ]
  },
  {
   "cell_type": "code",
   "execution_count": 8,
   "id": "e4fdb9b0",
   "metadata": {},
   "outputs": [],
   "source": [
    "from typing_extensions import Annotated\n",
    "\n",
    "class QueryOutput(TypedDict):\n",
    "    \"\"\"generated SQL query\"\"\"\n",
    "    query: Annotated[str, ..., 'Syntactically vaild SQL query.']\n",
    "\n",
    "\n",
    "def write_query(state: State):\n",
    "    \"\"\"generate SQL query to fetch information\"\"\"\n",
    "    prompt = query_prompt_template.invoke({\n",
    "        'dialect': db.dialect,\n",
    "        'top_k': 10,\n",
    "        'table_info': db.get_table_info(),\n",
    "        'input': state['question'],\n",
    "    })\n",
    "    structured_llm = llm.with_structured_output(QueryOutput)\n",
    "    result = structured_llm.invoke(prompt)\n",
    "    return {\"query\": result['query']}"
   ]
  },
  {
   "cell_type": "code",
   "execution_count": 9,
   "id": "a3c3cffe",
   "metadata": {},
   "outputs": [
    {
     "data": {
      "text/plain": [
       "{'query': 'SELECT COUNT(EmployeeId) FROM Employee;'}"
      ]
     },
     "execution_count": 9,
     "metadata": {},
     "output_type": "execute_result"
    }
   ],
   "source": [
    "write_query({'question': 'how many employees are there?'})"
   ]
  },
  {
   "cell_type": "markdown",
   "id": "cbd18039",
   "metadata": {},
   "source": [
    "### 2. 执行查询"
   ]
  },
  {
   "cell_type": "code",
   "execution_count": 11,
   "id": "524793d3",
   "metadata": {},
   "outputs": [],
   "source": [
    "from langchain_community.tools.sql_database.tool import QuerySQLDataBaseTool\n",
    "\n",
    "def execute_query(state: State):\n",
    "    \"\"\"execute SQL query\"\"\"\n",
    "    execute_query_tool = QuerySQLDataBaseTool(db=db)\n",
    "    return {'result': execute_query_tool.invoke(state['query'])}"
   ]
  },
  {
   "cell_type": "code",
   "execution_count": 12,
   "id": "abb33089",
   "metadata": {},
   "outputs": [
    {
     "name": "stderr",
     "output_type": "stream",
     "text": [
      "C:\\Users\\86136\\AppData\\Local\\Temp\\ipykernel_21148\\3808080095.py:5: LangChainDeprecationWarning: The class `QuerySQLDataBaseTool` was deprecated in LangChain 0.3.12 and will be removed in 1.0. An updated version of the class exists in the :class:`~langchain-community package and should be used instead. To use it run `pip install -U :class:`~langchain-community` and import as `from :class:`~langchain_community.tools import QuerySQLDatabaseTool``.\n",
      "  execute_query_tool = QuerySQLDataBaseTool(db=db)\n"
     ]
    },
    {
     "data": {
      "text/plain": [
       "{'result': '[(8,)]'}"
      ]
     },
     "execution_count": 12,
     "metadata": {},
     "output_type": "execute_result"
    }
   ],
   "source": [
    "execute_query({'query': 'SELECT COUNT(EmployeeId) FROM Employee;'})"
   ]
  },
  {
   "cell_type": "markdown",
   "id": "964edf71",
   "metadata": {},
   "source": [
    "### 3. 生成答案"
   ]
  },
  {
   "cell_type": "code",
   "execution_count": 13,
   "id": "aee9424b",
   "metadata": {},
   "outputs": [],
   "source": [
    "def generate_answer(state: State):\n",
    "    \"\"\"answer question using retrieved information as context\"\"\"\n",
    "    prompt = (\n",
    "        \"Given the following user question, corresponding SQL query, \"\n",
    "        \"and SQL result, answer the user question.\\n\\n\"\n",
    "        f\"Question: {state['question']}\\n\"\n",
    "        f\"SQL Query: {state['query']}\\n\"\n",
    "        f\"SQL Result: {state['result']}\"\n",
    "    )\n",
    "    response = llm.invoke(prompt)\n",
    "    return {'answer': response.content}"
   ]
  },
  {
   "cell_type": "markdown",
   "id": "8a9b68b1",
   "metadata": {},
   "source": [
    "### 4. 使用LangGraph编排"
   ]
  },
  {
   "cell_type": "code",
   "execution_count": 14,
   "id": "7c2b0442",
   "metadata": {},
   "outputs": [],
   "source": [
    "from langgraph.graph import START, StateGraph\n",
    "\n",
    "graph_builder = StateGraph(State).add_sequence(\n",
    "    [write_query, execute_query, generate_answer]\n",
    ")\n",
    "graph_builder.add_edge(START, 'write_query')\n",
    "graph = graph_builder.compile()"
   ]
  },
  {
   "cell_type": "code",
   "execution_count": 15,
   "id": "c81bc9f6",
   "metadata": {},
   "outputs": [
    {
     "data": {
      "image/png": "[encoded data removed]",
      "text/plain": [
       "<IPython.core.display.Image object>"
      ]
     },
     "metadata": {},
     "output_type": "display_data"
    }
   ],
   "source": [
    "from IPython.display import Image, display\n",
    "\n",
    "display(Image(graph.get_graph().draw_mermaid_png()))"
   ]
  },
  {
   "cell_type": "code",
   "execution_count": 16,
   "id": "141dbb06",
   "metadata": {},
   "outputs": [
    {
     "name": "stdout",
     "output_type": "stream",
     "text": [
      "{'write_query': {'query': 'SELECT COUNT(EmployeeId) FROM Employee;'}}\n",
      "{'execute_query': {'result': '[(8,)]'}}\n",
      "{'generate_answer': {'answer': 'There are 8 employees.'}}\n"
     ]
    }
   ],
   "source": [
    "for step in graph.stream(\n",
    "    {\"question\": \"How many employees are there?\"}, stream_mode=\"updates\"\n",
    "):\n",
    "    print(step)"
   ]
  },
  {
   "cell_type": "markdown",
   "id": "215130e2",
   "metadata": {},
   "source": [
    "### human-in-loop\n",
    "\n",
    "为了在敏感步骤（如执行SQL查询）之前中断应用程序，以便进行人工审核。( 运行的进度将保存到自己选择的存储中，这里我们指定内存存储 )"
   ]
  },
  {
   "cell_type": "code",
   "execution_count": 17,
   "id": "4ba0cdea",
   "metadata": {},
   "outputs": [],
   "source": [
    "from langgraph.checkpoint.memory import MemorySaver\n",
    "\n",
    "memory = MemorySaver()\n",
    "graph = graph_builder.compile(checkpointer=memory, interrupt_before=['execute_query'])\n",
    "\n",
    "# Now that we're using persistence, we need to specify a thread ID\n",
    "# so that we can continue the run after review.\n",
    "config = {\"configurable\": {\"thread_id\": \"1\"}}"
   ]
  },
  {
   "cell_type": "code",
   "execution_count": 18,
   "id": "3d6f4c73",
   "metadata": {},
   "outputs": [
    {
     "data": {
      "image/png": "[encoded data removed]",
      "text/plain": [
       "<IPython.core.display.Image object>"
      ]
     },
     "metadata": {},
     "output_type": "display_data"
    }
   ],
   "source": [
    "display(Image(graph.get_graph().draw_mermaid_png()))"
   ]
  },
  {
   "cell_type": "code",
   "execution_count": 19,
   "id": "321b8633",
   "metadata": {},
   "outputs": [
    {
     "name": "stdout",
     "output_type": "stream",
     "text": [
      "{'write_query': {'query': 'SELECT COUNT(EmployeeId) FROM Employee;'}}\n",
      "{'__interrupt__': ()}\n",
      "{'execute_query': {'result': '[(8,)]'}}\n",
      "{'generate_answer': {'answer': 'There are 8 employees.'}}\n"
     ]
    }
   ],
   "source": [
    "for step in graph.stream(\n",
    "    {\"question\": \"How many employees are there?\"},\n",
    "    config,\n",
    "    stream_mode=\"updates\",\n",
    "):\n",
    "    print(step)\n",
    "\n",
    "try:\n",
    "    user_approval = input(\"Do you want to go to execute query? (yes/no): \")\n",
    "except Exception:\n",
    "    user_approval = \"no\"\n",
    "\n",
    "if user_approval.lower() == \"yes\":\n",
    "    # If approved, continue the graph execution\n",
    "    for step in graph.stream(None, config, stream_mode=\"updates\"):\n",
    "        print(step)\n",
    "else:\n",
    "    print(\"Operation cancelled by user.\")"
   ]
  },
  {
   "cell_type": "markdown",
   "id": "ebb97c28",
   "metadata": {},
   "source": [
    "### 扩展\n",
    "\n",
    "对于更多复杂的查询生成，可能需要使用 *few-shot prompts* 或者增加 *查询检查* 点击下列连接来查看类似的先进技术 ( 在基于SQL进行QA方面 )：\n",
    "- [Prompting strategies](https://python.langchain.com/docs/how_to/sql_prompting/): 高级的提示词工程技术\n",
    "- [Query checking](https://python.langchain.com/docs/how_to/sql_query_checking/): 添加查询验证和错误处理\n",
    "- [Large databases](https://python.langchain.com/docs/how_to/sql_large_db/): 处理更大型的数据库的技术"
   ]
  },
  {
   "cell_type": "markdown",
   "id": "b96d2caf",
   "metadata": {},
   "source": [
    "## Agents\n",
    "\n",
    "与chains方法相比，Agents的行为要更加不可预测，但具有以下优势：\n",
    "- 多次执行查询来回答用户问题\n",
    "- 通过运行生成的查询、捕捉回溯并正确地重新生成查询来恢复错误。\n",
    "- 回答基于数据库模式和数据库内容（如描述特定表）的问题。\n",
    "\n",
    "`SQLDatabaseToolkit` 可以生成和执行查询、检查查询语法、检索表描述..."
   ]
  },
  {
   "cell_type": "code",
   "execution_count": 20,
   "id": "050a1584",
   "metadata": {},
   "outputs": [
    {
     "data": {
      "text/plain": [
       "[QuerySQLDatabaseTool(description=\"Input to this tool is a detailed and correct SQL query, output is a result from the database. If the query is not correct, an error message will be returned. If an error is returned, rewrite the query, check the query, and try again. If you encounter an issue with Unknown column 'xxxx' in 'field list', use sql_db_schema to query the correct table fields.\", db=<langchain_community.utilities.sql_database.SQLDatabase object at 0x000001EFA81E8A00>),\n",
       " InfoSQLDatabaseTool(description='Input to this tool is a comma-separated list of tables, output is the schema and sample rows for those tables. Be sure that the tables actually exist by calling sql_db_list_tables first! Example Input: table1, table2, table3', db=<langchain_community.utilities.sql_database.SQLDatabase object at 0x000001EFA81E8A00>),\n",
       " ListSQLDatabaseTool(db=<langchain_community.utilities.sql_database.SQLDatabase object at 0x000001EFA81E8A00>),\n",
       " QuerySQLCheckerTool(description='Use this tool to double check if your query is correct before executing it. Always use this tool before executing a query with sql_db_query!', db=<langchain_community.utilities.sql_database.SQLDatabase object at 0x000001EFA81E8A00>, llm=ChatGoogleGenerativeAI(model='models/gemini-2.5-flash', google_api_key=SecretStr('**********'), client=<google.ai.generativelanguage_v1beta.services.generative_service.client.GenerativeServiceClient object at 0x000001EFA97B8F70>, default_metadata=(), model_kwargs={}), llm_chain=LLMChain(verbose=False, prompt=PromptTemplate(input_variables=['dialect', 'query'], input_types={}, partial_variables={}, template='\\n{query}\\nDouble check the {dialect} query above for common mistakes, including:\\n- Using NOT IN with NULL values\\n- Using UNION when UNION ALL should have been used\\n- Using BETWEEN for exclusive ranges\\n- Data type mismatch in predicates\\n- Properly quoting identifiers\\n- Using the correct number of arguments for functions\\n- Casting to the correct data type\\n- Using the proper columns for joins\\n\\nIf there are any of the above mistakes, rewrite the query. If there are no mistakes, just reproduce the original query.\\n\\nOutput the final SQL query only.\\n\\nSQL Query: '), llm=ChatGoogleGenerativeAI(model='models/gemini-2.5-flash', google_api_key=SecretStr('**********'), client=<google.ai.generativelanguage_v1beta.services.generative_service.client.GenerativeServiceClient object at 0x000001EFA97B8F70>, default_metadata=(), model_kwargs={}), output_parser=StrOutputParser(), llm_kwargs={}))]"
      ]
     },
     "execution_count": 20,
     "metadata": {},
     "output_type": "execute_result"
    }
   ],
   "source": [
    "from langchain_community.agent_toolkits import SQLDatabaseToolkit\n",
    "\n",
    "toolkit = SQLDatabaseToolkit(db=db, llm=llm)\n",
    "tools = toolkit.get_tools()\n",
    "\n",
    "tools"
   ]
  },
  {
   "cell_type": "markdown",
   "id": "5ff152a9",
   "metadata": {},
   "source": [
    "### system prompt"
   ]
  },
  {
   "cell_type": "code",
   "execution_count": 21,
   "id": "ca877d47",
   "metadata": {},
   "outputs": [],
   "source": [
    "system_message = \"\"\"\n",
    "You are an agent designed to interact with a SQL database.\n",
    "Given an input question, create a syntactically correct {dialect} query to run,\n",
    "then look at the results of the query and return the answer. Unless the user\n",
    "specifies a specific number of examples they wish to obtain, always limit your\n",
    "query to at most {top_k} results.\n",
    "\n",
    "You can order the results by a relevant column to return the most interesting\n",
    "examples in the database. Never query for all the columns from a specific table,\n",
    "only ask for the relevant columns given the question.\n",
    "\n",
    "You MUST double check your query before executing it. If you get an error while\n",
    "executing a query, rewrite the query and try again.\n",
    "\n",
    "DO NOT make any DML statements (INSERT, UPDATE, DELETE, DROP etc.) to the\n",
    "database.\n",
    "\n",
    "To start you should ALWAYS look at the tables in the database to see what you\n",
    "can query. Do NOT skip this step.\n",
    "\n",
    "Then you should query the schema of the most relevant tables.\n",
    "\"\"\".format(\n",
    "    dialect=\"SQLite\",\n",
    "    top_k=5,\n",
    ")"
   ]
  },
  {
   "cell_type": "markdown",
   "id": "0234c370",
   "metadata": {},
   "source": [
    "### agent 初始化"
   ]
  },
  {
   "cell_type": "code",
   "execution_count": 22,
   "id": "b590397c",
   "metadata": {},
   "outputs": [],
   "source": [
    "from langchain_core.messages import HumanMessage\n",
    "from langgraph.prebuilt import create_react_agent\n",
    "\n",
    "agent_executor = create_react_agent(llm, tools, prompt=system_message)"
   ]
  },
  {
   "cell_type": "code",
   "execution_count": 23,
   "id": "1f6938a2",
   "metadata": {},
   "outputs": [
    {
     "name": "stdout",
     "output_type": "stream",
     "text": [
      "================================\u001b[1m Human Message \u001b[0m=================================\n",
      "\n",
      "Which country's customers spent the most?\n",
      "==================================\u001b[1m Ai Message \u001b[0m==================================\n",
      "Tool Calls:\n",
      "  sql_db_list_tables (723088c6-f764-492d-917e-f389f5d574d8)\n",
      " Call ID: 723088c6-f764-492d-917e-f389f5d574d8\n",
      "  Args:\n",
      "=================================\u001b[1m Tool Message \u001b[0m=================================\n",
      "Name: sql_db_list_tables\n",
      "\n",
      "Album, Artist, Customer, Employee, Genre, Invoice, InvoiceLine, MediaType, Playlist, PlaylistTrack, Track\n",
      "==================================\u001b[1m Ai Message \u001b[0m==================================\n",
      "Tool Calls:\n",
      "  sql_db_schema (cdc947cb-ab6d-4d3e-a0c3-8685f3fca774)\n",
      " Call ID: cdc947cb-ab6d-4d3e-a0c3-8685f3fca774\n",
      "  Args:\n",
      "    table_names: Customer, Invoice\n",
      "=================================\u001b[1m Tool Message \u001b[0m=================================\n",
      "Name: sql_db_schema\n",
      "\n",
      "\n",
      "CREATE TABLE \"Customer\" (\n",
      "\t\"CustomerId\" INTEGER NOT NULL, \n",
      "\t\"FirstName\" NVARCHAR(40) NOT NULL, \n",
      "\t\"LastName\" NVARCHAR(20) NOT NULL, \n",
      "\t\"Company\" NVARCHAR(80), \n",
      "\t\"Address\" NVARCHAR(70), \n",
      "\t\"City\" NVARCHAR(40), \n",
      "\t\"State\" NVARCHAR(40), \n",
      "\t\"Country\" NVARCHAR(40), \n",
      "\t\"PostalCode\" NVARCHAR(10), \n",
      "\t\"Phone\" NVARCHAR(24), \n",
      "\t\"Fax\" NVARCHAR(24), \n",
      "\t\"Email\" NVARCHAR(60) NOT NULL, \n",
      "\t\"SupportRepId\" INTEGER, \n",
      "\tPRIMARY KEY (\"CustomerId\"), \n",
      "\tFOREIGN KEY(\"SupportRepId\") REFERENCES \"Employee\" (\"EmployeeId\")\n",
      ")\n",
      "\n",
      "/*\n",
      "3 rows from Customer table:\n",
      "CustomerId\tFirstName\tLastName\tCompany\tAddress\tCity\tState\tCountry\tPostalCode\tPhone\tFax\tEmail\tSupportRepId\n",
      "1\tLuís\tGonçalves\tEmbraer - Empresa Brasileira de Aeronáutica S.A.\tAv. Brigadeiro Faria Lima, 2170\tSão José dos Campos\tSP\tBrazil\t12227-000\t+55 (12) 3923-5555\t+55 (12) 3923-5566\tluisg@embraer.com.br\t3\n",
      "2\tLeonie\tKöhler\tNone\tTheodor-Heuss-Straße 34\tStuttgart\tNone\tGermany\t70174\t+49 0711 2842222\tNone\tleonekohler@surfeu.de\t5\n",
      "3\tFrançois\tTremblay\tNone\t1498 rue Bélanger\tMontréal\tQC\tCanada\tH2G 1A7\t+1 (514) 721-4711\tNone\tftremblay@gmail.com\t3\n",
      "*/\n",
      "\n",
      "\n",
      "CREATE TABLE \"Invoice\" (\n",
      "\t\"InvoiceId\" INTEGER NOT NULL, \n",
      "\t\"CustomerId\" INTEGER NOT NULL, \n",
      "\t\"InvoiceDate\" DATETIME NOT NULL, \n",
      "\t\"BillingAddress\" NVARCHAR(70), \n",
      "\t\"BillingCity\" NVARCHAR(40), \n",
      "\t\"BillingState\" NVARCHAR(40), \n",
      "\t\"BillingCountry\" NVARCHAR(40), \n",
      "\t\"BillingPostalCode\" NVARCHAR(10), \n",
      "\t\"Total\" NUMERIC(10, 2) NOT NULL, \n",
      "\tPRIMARY KEY (\"InvoiceId\"), \n",
      "\tFOREIGN KEY(\"CustomerId\") REFERENCES \"Customer\" (\"CustomerId\")\n",
      ")\n",
      "\n",
      "/*\n",
      "3 rows from Invoice table:\n",
      "InvoiceId\tCustomerId\tInvoiceDate\tBillingAddress\tBillingCity\tBillingState\tBillingCountry\tBillingPostalCode\tTotal\n",
      "1\t2\t2021-01-01 00:00:00\tTheodor-Heuss-Straße 34\tStuttgart\tNone\tGermany\t70174\t1.98\n",
      "2\t4\t2021-01-02 00:00:00\tUllevålsveien 14\tOslo\tNone\tNorway\t0171\t3.96\n",
      "3\t8\t2021-01-03 00:00:00\tGrétrystraat 63\tBrussels\tNone\tBelgium\t1000\t5.94\n",
      "*/\n",
      "==================================\u001b[1m Ai Message \u001b[0m==================================\n",
      "Tool Calls:\n",
      "  sql_db_query_checker (e7e0622a-4707-4d1f-a308-26f09144e646)\n",
      " Call ID: e7e0622a-4707-4d1f-a308-26f09144e646\n",
      "  Args:\n",
      "    query: SELECT T1.Country, SUM(T2.Total) AS TotalSpending FROM Customer AS T1 JOIN Invoice AS T2 ON T1.CustomerId = T2.CustomerId GROUP BY T1.Country ORDER BY TotalSpending DESC LIMIT 1\n",
      "=================================\u001b[1m Tool Message \u001b[0m=================================\n",
      "Name: sql_db_query_checker\n",
      "\n",
      "SELECT T1.Country, SUM(T2.Total) AS TotalSpending FROM Customer AS T1 JOIN Invoice AS T2 ON T1.CustomerId = T2.CustomerId GROUP BY T1.Country ORDER BY TotalSpending DESC LIMIT 1\n",
      "==================================\u001b[1m Ai Message \u001b[0m==================================\n",
      "Tool Calls:\n",
      "  sql_db_query (b6f25282-ef11-45af-a8b0-47218aa12ef1)\n",
      " Call ID: b6f25282-ef11-45af-a8b0-47218aa12ef1\n",
      "  Args:\n",
      "    query: SELECT T1.Country, SUM(T2.Total) AS TotalSpending FROM Customer AS T1 JOIN Invoice AS T2 ON T1.CustomerId = T2.CustomerId GROUP BY T1.Country ORDER BY TotalSpending DESC LIMIT 1\n",
      "=================================\u001b[1m Tool Message \u001b[0m=================================\n",
      "Name: sql_db_query\n",
      "\n",
      "[('USA', 523.06)]\n",
      "==================================\u001b[1m Ai Message \u001b[0m==================================\n",
      "\n",
      "The country whose customers spent the most is USA, with a total spending of 523.06.\n"
     ]
    }
   ],
   "source": [
    "question = \"Which country's customers spent the most?\"\n",
    "\n",
    "for step in agent_executor.stream(\n",
    "    {\"messages\": [{\"role\": \"user\", \"content\": question}]},\n",
    "    stream_mode=\"values\",\n",
    "):\n",
    "    step[\"messages\"][-1].pretty_print()"
   ]
  },
  {
   "cell_type": "code",
   "execution_count": 24,
   "id": "d0473bc6",
   "metadata": {},
   "outputs": [
    {
     "name": "stdout",
     "output_type": "stream",
     "text": [
      "================================\u001b[1m Human Message \u001b[0m=================================\n",
      "\n",
      "Describe the playlisttrack table\n",
      "==================================\u001b[1m Ai Message \u001b[0m==================================\n",
      "Tool Calls:\n",
      "  sql_db_list_tables (9dfc09f6-10cf-44d6-be40-53aa55c3fe78)\n",
      " Call ID: 9dfc09f6-10cf-44d6-be40-53aa55c3fe78\n",
      "  Args:\n",
      "=================================\u001b[1m Tool Message \u001b[0m=================================\n",
      "Name: sql_db_list_tables\n",
      "\n",
      "Album, Artist, Customer, Employee, Genre, Invoice, InvoiceLine, MediaType, Playlist, PlaylistTrack, Track\n",
      "==================================\u001b[1m Ai Message \u001b[0m==================================\n",
      "Tool Calls:\n",
      "  sql_db_schema (acc7d7d6-aed1-49b3-848b-fd8409d10382)\n",
      " Call ID: acc7d7d6-aed1-49b3-848b-fd8409d10382\n",
      "  Args:\n",
      "    table_names: PlaylistTrack\n",
      "=================================\u001b[1m Tool Message \u001b[0m=================================\n",
      "Name: sql_db_schema\n",
      "\n",
      "\n",
      "CREATE TABLE \"PlaylistTrack\" (\n",
      "\t\"PlaylistId\" INTEGER NOT NULL, \n",
      "\t\"TrackId\" INTEGER NOT NULL, \n",
      "\tPRIMARY KEY (\"PlaylistId\", \"TrackId\"), \n",
      "\tFOREIGN KEY(\"TrackId\") REFERENCES \"Track\" (\"TrackId\"), \n",
      "\tFOREIGN KEY(\"PlaylistId\") REFERENCES \"Playlist\" (\"PlaylistId\")\n",
      ")\n",
      "\n",
      "/*\n",
      "3 rows from PlaylistTrack table:\n",
      "PlaylistId\tTrackId\n",
      "1\t3402\n",
      "1\t3389\n",
      "1\t3390\n",
      "*/\n",
      "==================================\u001b[1m Ai Message \u001b[0m==================================\n",
      "\n",
      "The `PlaylistTrack` table has two columns: `PlaylistId` and `TrackId`. Both are integers and together they form the primary key. `PlaylistId` is a foreign key referencing the `Playlist` table, and `TrackId` is a foreign key referencing the `Track` table. This table essentially links tracks to playlists, indicating which tracks are part of a given playlist.\n"
     ]
    }
   ],
   "source": [
    "question = \"Describe the playlisttrack table\"\n",
    "\n",
    "for step in agent_executor.stream(\n",
    "    {\"messages\": [{\"role\": \"user\", \"content\": question}]},\n",
    "    stream_mode=\"values\",\n",
    "):\n",
    "    step[\"messages\"][-1].pretty_print()"
   ]
  },
  {
   "cell_type": "markdown",
   "id": "01189536",
   "metadata": {},
   "source": [
    "### dealing with high-cardinaliity columns\n",
    "\n",
    "有一些包含专有名词的列，如地址、歌曲名、人名等。如果直接执行查询，可能不支持类似“模糊搜素”的功能。例如，如果数据库存储的是\"Alice\"，而用户输入\"alice\"可能会查询失败。\n",
    "\n",
    "为此，可以通过创建一个具有数据库中所有专有名词的向量存储来实现这一目标。在每次用户输入包含专有名词时，在矢量存储中查询，以找到单词的正确拼写。"
   ]
  },
  {
   "cell_type": "markdown",
   "id": "516e950d",
   "metadata": {},
   "source": [
    "收集专有名词"
   ]
  },
  {
   "cell_type": "code",
   "execution_count": 25,
   "id": "4edfdba6",
   "metadata": {},
   "outputs": [
    {
     "data": {
      "text/plain": [
       "['How To Dismantle An Atomic Bomb',\n",
       " 'The Best of Ed Motta',\n",
       " 'Instant Karma: The Amnesty International Campaign to Save Darfur',\n",
       " 'South American Getaway',\n",
       " 'Led Zeppelin III']"
      ]
     },
     "execution_count": 25,
     "metadata": {},
     "output_type": "execute_result"
    }
   ],
   "source": [
    "import ast\n",
    "import re\n",
    "\n",
    "def query_as_list(db, query):\n",
    "    res = db.run(query)\n",
    "    res = [el for sub in ast.literal_eval(res) for el in sub if el]\n",
    "    res = [re.sub(r\"\\b\\d+\\b\", \"\", string).strip() for string in res]\n",
    "    return list(set(res))\n",
    "\n",
    "artists = query_as_list(db, \"SELECT Name FROM Artist\")\n",
    "albums = query_as_list(db, \"SELECT Title FROM Album\")\n",
    "albums[:5]"
   ]
  },
  {
   "cell_type": "code",
   "execution_count": 30,
   "id": "abdad523",
   "metadata": {},
   "outputs": [
    {
     "name": "stderr",
     "output_type": "stream",
     "text": [
      "d:\\DevTools\\miniconda3\\envs\\langchain\\lib\\site-packages\\tqdm\\auto.py:21: TqdmWarning: IProgress not found. Please update jupyter and ipywidgets. See https://ipywidgets.readthedocs.io/en/stable/user_install.html\n",
      "  from .autonotebook import tqdm as notebook_tqdm\n",
      "d:\\DevTools\\miniconda3\\envs\\langchain\\lib\\site-packages\\huggingface_hub\\file_download.py:143: UserWarning: `huggingface_hub` cache-system uses symlinks by default to efficiently store duplicated files but your machine does not support them in D:\\PersonalLearning\\20250926_LangChian\\langchain\\tutorial\\embedding_model\\models--sentence-transformers--all-mpnet-base-v2. Caching files will still work but in a degraded version that might require more space on your disk. This warning can be disabled by setting the `HF_HUB_DISABLE_SYMLINKS_WARNING` environment variable. For more details, see https://huggingface.co/docs/huggingface_hub/how-to-cache#limitations.\n",
      "To support symlinks on Windows, you either need to activate Developer Mode or to run Python as an administrator. In order to activate developer mode, see this article: https://docs.microsoft.com/en-us/windows/apps/get-started/enable-your-device-for-development\n",
      "  warnings.warn(message)\n",
      "Xet Storage is enabled for this repo, but the 'hf_xet' package is not installed. Falling back to regular HTTP download. For better performance, install the package with: `pip install huggingface_hub[hf_xet]` or `pip install hf_xet`\n"
     ]
    }
   ],
   "source": [
    "from langchain_huggingface import HuggingFaceEmbeddings\n",
    "\n",
    "embeddings = HuggingFaceEmbeddings(\n",
    "    model_name=\"sentence-transformers/all-mpnet-base-v2\",\n",
    "    cache_folder='./embedding_model')"
   ]
  },
  {
   "cell_type": "code",
   "execution_count": 31,
   "id": "2cf8bc55",
   "metadata": {},
   "outputs": [],
   "source": [
    "from langchain_core.vectorstores import InMemoryVectorStore\n",
    "\n",
    "vector_store = InMemoryVectorStore(embeddings)"
   ]
  },
  {
   "cell_type": "markdown",
   "id": "3b79e5fe",
   "metadata": {},
   "source": [
    "> 这里解释一下为什么不直接使用 `retriever` 作为 `tool`：<br>\n",
    "> \n",
    "> `retriever` ：是一个接口( `BaseRetriever` )，是一个纯功能组件，不会有名字、描述，也没有标准化的输入输出模型。虽然能在通过手写代码 ( `Chains` ) 中作为工具使用，但是在 `Agent` 中无法被识别为工具<br>\n",
    "> 因此需要使用 `create_retriever_tool` 对它进行包装"
   ]
  },
  {
   "cell_type": "code",
   "execution_count": null,
   "id": "9c1f7432",
   "metadata": {},
   "outputs": [],
   "source": [
    "from langchain.agents.agent_toolkits import create_retriever_tool\n",
    "\n",
    "_ = vector_store.add_texts(artists + albums)\n",
    "retriever = vector_store.as_retriever(search_kwargs={'k': 5})  # 把向量数据库内容包装为一个检索器接口\n",
    "# retriever.get_relevant_documents('Alice Chains')\n",
    "description = (\n",
    "    \"Use to look up values to filter on. Input is an approximate spelling \"\n",
    "    \"of the proper noun, output is valid proper nouns. Use the noun most \"\n",
    "    \"similar to the search.\"\n",
    ")\n",
    "retriever_tool = create_retriever_tool(  # 把检索器包装为一个tool\n",
    "    retriever,\n",
    "    name='search_proper_nouns',\n",
    "    description=description  # 给 LLM 的工具描述\n",
    ")"
   ]
  },
  {
   "cell_type": "code",
   "execution_count": 33,
   "id": "3a162a44",
   "metadata": {},
   "outputs": [
    {
     "name": "stdout",
     "output_type": "stream",
     "text": [
      "Alice In Chains\n",
      "\n",
      "Iron Maiden\n",
      "\n",
      "Iron Maiden\n",
      "\n",
      "Black Sabbath\n",
      "\n",
      "Black Sabbath\n"
     ]
    }
   ],
   "source": [
    "print(retriever_tool.invoke('Alice Chains'))"
   ]
  },
  {
   "cell_type": "code",
   "execution_count": 34,
   "id": "ae73bdd5",
   "metadata": {},
   "outputs": [],
   "source": [
    "# Add to system message\n",
    "suffix = (\n",
    "    \"If you need to filter on a proper noun like a Name, you must ALWAYS first look up \"\n",
    "    \"the filter value using the 'search_proper_nouns' tool! Do not try to \"\n",
    "    \"guess at the proper name - use this function to find similar ones.\"\n",
    ")\n",
    "system = f\"{system_message}\\n\\n{suffix}\"\n",
    "\n",
    "tools.append(retriever_tool)\n",
    "\n",
    "agent = create_react_agent(llm, tools, prompt=system)"
   ]
  },
  {
   "cell_type": "code",
   "execution_count": 35,
   "id": "2b2f6dbd",
   "metadata": {},
   "outputs": [
    {
     "name": "stdout",
     "output_type": "stream",
     "text": [
      "================================\u001b[1m Human Message \u001b[0m=================================\n",
      "\n",
      "How many albums does alis in chain have?\n",
      "==================================\u001b[1m Ai Message \u001b[0m==================================\n",
      "Tool Calls:\n",
      "  search_proper_nouns (8317e6d9-866d-4994-8bb2-2e781f0f98af)\n",
      " Call ID: 8317e6d9-866d-4994-8bb2-2e781f0f98af\n",
      "  Args:\n",
      "    query: alis in chain\n",
      "=================================\u001b[1m Tool Message \u001b[0m=================================\n",
      "Name: search_proper_nouns\n",
      "\n",
      "Aisha Duo\n",
      "\n",
      "Habib Koité and Bamada\n",
      "\n",
      "Warner  Anos\n",
      "\n",
      "A-Sides\n",
      "\n",
      "In Step\n",
      "==================================\u001b[1m Ai Message \u001b[0m==================================\n",
      "Tool Calls:\n",
      "  sql_db_list_tables (e2fc6f9c-de30-4efb-93bf-f067c9eb8eb8)\n",
      " Call ID: e2fc6f9c-de30-4efb-93bf-f067c9eb8eb8\n",
      "  Args:\n",
      "    tool_input:\n",
      "=================================\u001b[1m Tool Message \u001b[0m=================================\n",
      "Name: sql_db_list_tables\n",
      "\n",
      "Album, Artist, Customer, Employee, Genre, Invoice, InvoiceLine, MediaType, Playlist, PlaylistTrack, Track\n",
      "==================================\u001b[1m Ai Message \u001b[0m==================================\n",
      "Tool Calls:\n",
      "  sql_db_schema (41794811-0a69-48b7-bc91-2f04ae8430c0)\n",
      " Call ID: 41794811-0a69-48b7-bc91-2f04ae8430c0\n",
      "  Args:\n",
      "    table_names: Artist, Album\n",
      "=================================\u001b[1m Tool Message \u001b[0m=================================\n",
      "Name: sql_db_schema\n",
      "\n",
      "\n",
      "CREATE TABLE \"Album\" (\n",
      "\t\"AlbumId\" INTEGER NOT NULL, \n",
      "\t\"Title\" NVARCHAR(160) NOT NULL, \n",
      "\t\"ArtistId\" INTEGER NOT NULL, \n",
      "\tPRIMARY KEY (\"AlbumId\"), \n",
      "\tFOREIGN KEY(\"ArtistId\") REFERENCES \"Artist\" (\"ArtistId\")\n",
      ")\n",
      "\n",
      "/*\n",
      "3 rows from Album table:\n",
      "AlbumId\tTitle\tArtistId\n",
      "1\tFor Those About To Rock We Salute You\t1\n",
      "2\tBalls to the Wall\t2\n",
      "3\tRestless and Wild\t2\n",
      "*/\n",
      "\n",
      "\n",
      "CREATE TABLE \"Artist\" (\n",
      "\t\"ArtistId\" INTEGER NOT NULL, \n",
      "\t\"Name\" NVARCHAR(120), \n",
      "\tPRIMARY KEY (\"ArtistId\")\n",
      ")\n",
      "\n",
      "/*\n",
      "3 rows from Artist table:\n",
      "ArtistId\tName\n",
      "1\tAC/DC\n",
      "2\tAccept\n",
      "3\tAerosmith\n",
      "*/\n",
      "==================================\u001b[1m Ai Message \u001b[0m==================================\n",
      "Tool Calls:\n",
      "  sql_db_query_checker (3d5322fb-4b90-4689-8253-e8ae069fa925)\n",
      " Call ID: 3d5322fb-4b90-4689-8253-e8ae069fa925\n",
      "  Args:\n",
      "    query: SELECT ArtistId FROM Artist WHERE Name = 'Aisha Duo'\n",
      "=================================\u001b[1m Tool Message \u001b[0m=================================\n",
      "Name: sql_db_query_checker\n",
      "\n",
      "SELECT ArtistId FROM Artist WHERE Name = 'Aisha Duo'\n",
      "==================================\u001b[1m Ai Message \u001b[0m==================================\n",
      "Tool Calls:\n",
      "  sql_db_query (798b0cf2-52f8-4b15-9c62-d2db0690c836)\n",
      " Call ID: 798b0cf2-52f8-4b15-9c62-d2db0690c836\n",
      "  Args:\n",
      "    query: SELECT ArtistId FROM Artist WHERE Name = 'Aisha Duo'\n",
      "=================================\u001b[1m Tool Message \u001b[0m=================================\n",
      "Name: sql_db_query\n",
      "\n",
      "[(197,)]\n",
      "==================================\u001b[1m Ai Message \u001b[0m==================================\n",
      "Tool Calls:\n",
      "  sql_db_query_checker (d5b8422f-b04f-4b7e-b702-08d8902150e4)\n",
      " Call ID: d5b8422f-b04f-4b7e-b702-08d8902150e4\n",
      "  Args:\n",
      "    query: SELECT COUNT(*) FROM Album WHERE ArtistId = 197\n",
      "=================================\u001b[1m Tool Message \u001b[0m=================================\n",
      "Name: sql_db_query_checker\n",
      "\n",
      "SELECT COUNT(*) FROM Album WHERE ArtistId = 197\n",
      "==================================\u001b[1m Ai Message \u001b[0m==================================\n",
      "Tool Calls:\n",
      "  sql_db_query (62d221b6-3e3c-4577-bf02-ed21175ccd8e)\n",
      " Call ID: 62d221b6-3e3c-4577-bf02-ed21175ccd8e\n",
      "  Args:\n",
      "    query: SELECT COUNT(*) FROM Album WHERE ArtistId = 197\n",
      "=================================\u001b[1m Tool Message \u001b[0m=================================\n",
      "Name: sql_db_query\n",
      "\n",
      "[(1,)]\n",
      "==================================\u001b[1m Ai Message \u001b[0m==================================\n",
      "\n",
      "Aisha Duo has 1 album.\n"
     ]
    }
   ],
   "source": [
    "question = \"How many albums does alis in chain have?\"\n",
    "\n",
    "for step in agent.stream(\n",
    "    {\"messages\": [{\"role\": \"user\", \"content\": question}]},\n",
    "    stream_mode=\"values\",\n",
    "):\n",
    "    step[\"messages\"][-1].pretty_print()"
   ]
  }
 ],
 "metadata": {
  "kernelspec": {
   "display_name": "langchain",
   "language": "python",
   "name": "python3"
  },
  "language_info": {
   "codemirror_mode": {
    "name": "ipython",
    "version": 3
   },
   "file_extension": ".py",
   "mimetype": "text/x-python",
   "name": "python",
   "nbconvert_exporter": "python",
   "pygments_lexer": "ipython3",
   "version": "3.9.23"
  }
 },
 "nbformat": 4,
 "nbformat_minor": 5
}
