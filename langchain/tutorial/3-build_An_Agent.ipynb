{
 "cells": [
  {
   "cell_type": "markdown",
   "id": "7ddc34b6",
   "metadata": {},
   "source": [
    "# Build An Agent\n",
    "[build an agent](https://python.langchain.com/docs/tutorials/agents/)\n",
    "\n",
    "\n",
    "**简介：**<br>\n",
    "本节介绍了以下内容：<br>\n",
    "- 介绍了为LLM添加工具（这里使用 `Tavily` ）的方法：使用 `model.bind_tools(tools)` 方法为LLM提供工具\n",
    "- 介绍了利用 `create_react_agent` 快速构建一个简单的具有记忆功能的 `ReAct` 风格的 agent 的方法，并通过设置 `stream_mode` 来控制模型的输出方式（eg. 流式输出...）\n",
    "\n",
    "\n",
    "> 这里简要说明一下，为什么还要再搭建一个 agent （个人理解）<br>\n",
    "> 下面可以看到，当我问模型“某地天气是什么样”的时候，它告诉我它无法获取实时天气信息，尽管我已经通过 `model.bind_tools(tools)` 为它配置了工具<br>\n",
    "> 当我输入“查询某地天气”时，它才调用工具。但返回的是结构化的，从工具获取的原生信息，缺乏总结等。当然，也可以通过在 `chains` 中增加流程实现.<br>\n",
    "> 但这里有更简单的方法，agent是利用大模型的推理能力，决定是否要调用某个工具，调用完成后，用工具获取的外部知识回答用户输入问题\n",
    "\n",
    "\n",
    "\n",
    "**使用Tavily作为工具**\n",
    "\n",
    "> Tavily's Search API is a search engine built specifically for AI agents (LLMs), delivering real-time, accurate, and factual results at speed.<br>\n",
    "> 如果没有API，请注册申请一个（[Tavily API Platform](https://app.tavily.com/home)）并配置好环境变量\n"
   ]
  },
  {
   "cell_type": "markdown",
   "id": "0fb106ce",
   "metadata": {},
   "source": [
    "## 1. 定义tools"
   ]
  },
  {
   "cell_type": "code",
   "execution_count": 2,
   "id": "5caaf44b",
   "metadata": {},
   "outputs": [
    {
     "name": "stdout",
     "output_type": "stream",
     "text": [
      "{'query': \"what's the wether in BeiJing\", 'follow_up_questions': None, 'answer': None, 'images': [], 'results': [{'url': 'https://weather.metoffice.gov.uk/forecast/wx4g092se', 'title': 'Beijing (China) weather - Met Office', 'content': '# Beijing (China) weather ## Find a forecast ## Forecast days Cloudy changing to sunny intervals by late morning. Sunny changing to partly cloudy in the afternoon. Cloudy changing to sunny intervals by late morning. Sunny changing to partly cloudy in the afternoon. ## 7 day forecast for Beijing | Feels like temperature (°C) | 24° | 23° | 23° | | Wind direction and speed (mph) | SW  1 | WNW  1 | NW  1 | NNW  2 | NNW  1 | NNW  1 | NNW  1 | NNW  1 | NW  1 | NNW  1 | N  1 | NE  2 | ENE  3 | E  3 | ESE  3 | SE  3 | SE  4 | SSE  4 | SSE  5 | SSE  5 | SSE  5 | S  5 | S  4 | S  3 | weather map ## Nearest forecasts * Beijing International 5.9 miles * WEATHER * WEATHER * WEATHER', 'score': 0.63125396, 'raw_content': None}, {'url': 'https://www.bbc.com/weather/1816670', 'title': 'Beijing - BBC Weather', 'content': '6.   [Thursday 25th September Thu 25th , Sunny and light winds Sunny , High 29°84° Low 16°60° , Wind speed 5 mph 8 km/h N 5 mph 8 km/h Northerly Sunny and light winds](https://www.bbc.com/weather/1816670/day5) 7.   [Friday 26th September Fri 26th , Sunny and light winds Sunny , High 29°84° Low 16°61° , Wind speed 4 mph 7 km/h S 4 mph 7 km/h Southerly Sunny and light winds](https://www.bbc.com/weather/1816670/day6) 8.   [Saturday 27th September Sat 27th , Sunny and light winds Sunny , High 28°82° Low 16°61° , Wind speed 6 mph 10 km/h SW 6 mph 10 km/h South Westerly Sunny and light winds](https://www.bbc.com/weather/1816670/day7)', 'score': 0.54666615, 'raw_content': None}, {'url': 'https://www.accuweather.com/en/cn/beijing/101924/daily-weather-forecast/101924', 'title': 'Beijing, Beijing, China Daily Weather | AccuWeather', 'content': '[Sun 9/14 -------- 89°/58° 0%](https://www.accuweather.com/en/cn/beijing/101924/daily-weather-forecast/101924?day=3) [Mon 9/15 -------- 77°/64° 4%](https://www.accuweather.com/en/cn/beijing/101924/daily-weather-forecast/101924?day=4) [Thu 9/18 -------- 73°/58° 8%](https://www.accuweather.com/en/cn/beijing/101924/daily-weather-forecast/101924?day=7) [Fri 9/19 -------- 70°/54° 58%](https://www.accuweather.com/en/cn/beijing/101924/daily-weather-forecast/101924?day=8) [Sat 9/20 -------- 80°/57° 1%](https://www.accuweather.com/en/cn/beijing/101924/daily-weather-forecast/101924?day=9) [Sun 9/21 -------- 75°/56° 1%](https://www.accuweather.com/en/cn/beijing/101924/daily-weather-forecast/101924?day=10) [Mon 9/22 -------- 75°/55° 2%](https://www.accuweather.com/en/cn/beijing/101924/daily-weather-forecast/101924?day=11) [Thu 9/25 -------- 74°/55° 25%](https://www.accuweather.com/en/cn/beijing/101924/daily-weather-forecast/101924?day=14) [Fri 9/26 -------- 71°/51° 20%](https://www.accuweather.com/en/cn/beijing/101924/daily-weather-forecast/101924?day=15) [Sat 9/27 -------- 70°/50° 10%](https://www.accuweather.com/en/cn/beijing/101924/daily-weather-forecast/101924?day=16) [Sun 9/28 -------- 70°/50° 5%](https://www.accuweather.com/en/cn/beijing/101924/daily-weather-forecast/101924?day=17) [Mon 9/29 -------- 71°/52° 25%](https://www.accuweather.com/en/cn/beijing/101924/daily-weather-forecast/101924?day=18) [Fri 10/3 -------- 71°/52° 25%](https://www.accuweather.com/en/cn/beijing/101924/daily-weather-forecast/101924?day=22) [Sat 10/4 -------- 67°/54° 25%](https://www.accuweather.com/en/cn/beijing/101924/daily-weather-forecast/101924?day=23) [Sun 10/5 -------- 73°/53° 10%](https://www.accuweather.com/en/cn/beijing/101924/daily-weather-forecast/101924?day=24) [Fri 10/10 --------- 67°/46° 20%](https://www.accuweather.com/en/cn/beijing/101924/daily-weather-forecast/101924?day=29) [Sat 10/11 --------- 68°/46° 25%](https://www.accuweather.com/en/cn/beijing/101924/daily-weather-forecast/101924?day=30) [Sun 10/12 --------- 68°/47° 20%](https://www.accuweather.com/en/cn/beijing/101924/daily-weather-forecast/101924?day=31) [Fri 10/17 --------- 66°/41° 20%](https://www.accuweather.com/en/cn/beijing/101924/daily-weather-forecast/101924?day=36) [Sat 10/18 --------- 59°/40° 25%](https://www.accuweather.com/en/cn/beijing/101924/daily-weather-forecast/101924?day=37) [Sun 10/19 --------- 59°/40° 5%](https://www.accuweather.com/en/cn/beijing/101924/daily-weather-forecast/101924?day=38) [Fri 10/24 --------- 59°/38° 55%](https://www.accuweather.com/en/cn/beijing/101924/daily-weather-forecast/101924?day=43) [Sat 10/25 --------- 66°/32° 25%](https://www.accuweather.com/en/cn/beijing/101924/daily-weather-forecast/101924?day=44) [Sun 10/26 --------- 57°/33° 0%](https://www.accuweather.com/en/cn/beijing/101924/daily-weather-forecast/101924?day=45)', 'score': 0.5265625, 'raw_content': None}, {'url': 'https://en.weather.com.cn/', 'title': 'National and Local Weather Forecast ,china Meteorological Service ...', 'content': '![Image 3](https://i.tq121.com.cn/i/english/weaIcon/white/n07.png)21 69°C°F Feels like _19°_ _67°F_ [](http://en.weather.com.cn/weather/101010100.shtml) ![Image 4](https://i.tq121.com.cn/i/english/weaIcon/white/n07.png)31 87°C°F Feels like _32°_ _90°F_ [](http://en.weather.com.cn/weather/101020100.shtml) ![Image 5](https://i.tq121.com.cn/i/english/weaIcon/white/n04.png)32 89°C°F Feels like _31°_ _88°F_ [](http://en.weather.com.cn/weather/101280101.shtml) *   [Beijing](http://en.weather.com.cn/weather/101010100.shtml)_21°_ _69°F_![Image 6](https://i.tq121.com.cn/i/english/weaIcon/blue/n07.png) *   [Shanghai](http://en.weather.com.cn/weather/101020100.shtml)_31°_ _87°F_![Image 7](https://i.tq121.com.cn/i/english/weaIcon/blue/n07.png) *   [Chongqing](http://en.weather.com.cn/weather/101040100.shtml)_24°_ _75°F_![Image 8](https://i.tq121.com.cn/i/english/weaIcon/blue/n07.png) *   [Haerbin](http://en.weather.com.cn/weather/101050101.shtml)_25°_ _77°F_![Image 9](https://i.tq121.com.cn/i/english/weaIcon/blue/n01.png) *   [Xian](http://en.weather.com.cn/weather/101110101.shtml)_20°_ _68°F_![Image 10](https://i.tq121.com.cn/i/english/weaIcon/blue/n07.png) *   [Jinan](http://en.weather.com.cn/weather/101120101.shtml)_18°_ _64°F_![Image 11](https://i.tq121.com.cn/i/english/weaIcon/blue/n08.png) *   [Wuhan](http://en.weather.com.cn/weather/101200101.shtml)_26°_ _78°F_![Image 12](https://i.tq121.com.cn/i/english/weaIcon/blue/n01.png) *   [Fuzhou](http://en.weather.com.cn/weather/101230101.shtml)_31°_ _87°F_![Image 13](https://i.tq121.com.cn/i/english/weaIcon/blue/n08.png) *   [Guangzhou](http://en.weather.com.cn/weather/101280101.shtml)_32°_ _89°F_![Image 14](https://i.tq121.com.cn/i/english/weaIcon/blue/n04.png) *   [Kunming](http://en.weather.com.cn/weather/101290101.shtml)_24°_ _75°F_![Image 15](https://i.tq121.com.cn/i/english/weaIcon/blue/n03.png) *   [Nanning](http://en.weather.com.cn/weather/101300101.shtml)_32°_ _89°F_![Image 16](https://i.tq121.com.cn/i/english/weaIcon/blue/n01.png) *   [Sanya](http://en.weather.com.cn/weather/101310201.shtml)_33°_ _91°F_![Image 17](https://i.tq121.com.cn/i/english/weaIcon/blue/n04.png) *   ![Image 19](https://www.weather.com.cn/m/i/alarm_s/0201.gif)[Blue Torrential rain Warning for Shandong](https://en.weather.com.cn/ \"Blue Torrential rain Warning for Shandong\") *   ![Image 21](https://www.weather.com.cn/m/i/alarm_s/0201.gif)[Blue Torrential rain Warning for Jiangsu](https://en.weather.com.cn/ \"Blue Torrential rain Warning for Jiangsu\") *   ![Image 22](https://www.weather.com.cn/m/i/alarm_s/0201.gif)[Blue Torrential rain Warning for Sichuan](https://en.weather.com.cn/ \"Blue Torrential rain Warning for Sichuan\")', 'score': 0.42162386, 'raw_content': None}, {'url': 'https://www.accuweather.com/en/cn/beijing/101924/weather-forecast/101924', 'title': 'Beijing, Beijing, China Weather Forecast - AccuWeather', 'content': '### Warnings ### Data Suite ### Forensics ### Advertising ### Superior Accuracy™ ## Beijing Weather Radar ## Hourly Weather Hazy sun 9% Sun 6 hours ago Weather News 17 hours ago Severe Weather 6 hours ago Weather Forecasts 3 days ago Weather News ## Weather Near Beijing: For Business   For Partners   For Advertising   AccuWeather APIs   AccuWeather Connect  RealFeel® and RealFeel Shade™  Personal Weather Stations AccuWeather Ready   Business   Health   Hurricane   Leisure and Recreation   Severe Weather   Space and Astronomy   Sports   Travel   Weather News For Business   For Partners   For Advertising   AccuWeather APIs   AccuWeather Connect  RealFeel® and RealFeel Shade™  Personal Weather Stations AccuWeather Ready   Business   Health   Hurricane   Leisure and Recreation   Severe Weather   Space and Astronomy   Sports   Travel   Weather News', 'score': 0.12280721, 'raw_content': None}], 'response_time': 0.86, 'request_id': '8380261a-716a-4f5e-89f6-accdd51f8452'}\n"
     ]
    }
   ],
   "source": [
    "import os\n",
    "from langchain_tavily import TavilySearch\n",
    "\n",
    "os.environ.get('TAVILY_API_KEY')\n",
    "search = TavilySearch(max_result=2)\n",
    "search_results = search.invoke(\"what's the wether in BeiJing\")\n",
    "print(search_results)\n",
    "\n",
    "tools = [search]  # 先把所有工具放在一个列表里\n"
   ]
  },
  {
   "cell_type": "markdown",
   "id": "e8cae498",
   "metadata": {},
   "source": [
    "## 2. 使用LLM"
   ]
  },
  {
   "cell_type": "code",
   "execution_count": 5,
   "id": "57fbe2bb",
   "metadata": {},
   "outputs": [
    {
     "name": "stdout",
     "output_type": "stream",
     "text": [
      "Hi there! How can I help you today?\n"
     ]
    }
   ],
   "source": [
    "from langchain.chat_models import init_chat_model\n",
    "\n",
    "os.environ['HTTP_PROXY'] = 'http://127.0.0.1:7890'\n",
    "os.environ['HTTPS_PROXY'] = 'http://127.0.0.1:7890'\n",
    "\n",
    "os.environ.get('GOOGLE_API_KEY')\n",
    "\n",
    "model = init_chat_model('gemini-2.5-flash', model_provider='google-genai')\n",
    "\n",
    "query = 'hi!'\n",
    "response = model.invoke([{'role': 'user', 'content': query}])\n",
    "print(response.text())"
   ]
  },
  {
   "cell_type": "code",
   "execution_count": 9,
   "id": "f2397ce6",
   "metadata": {},
   "outputs": [
    {
     "name": "stdout",
     "output_type": "stream",
     "text": [
      "message content: I cannot tell you the weather in Beijing. I do not have access to real-time weather information.\n",
      "tools calss: []\n"
     ]
    }
   ],
   "source": [
    "model_with_tools = model.bind_tools(tools)\n",
    "\n",
    "query = 'tell me the wether in BeiJing.'\n",
    "response = model_with_tools.invoke([{'role': 'user', 'content': query}])\n",
    "\n",
    "print(f\"message content: {response.text()}\")\n",
    "print(f'tools calss: {response.tool_calls}')"
   ]
  },
  {
   "cell_type": "code",
   "execution_count": 10,
   "id": "5a5641e3",
   "metadata": {},
   "outputs": [
    {
     "name": "stdout",
     "output_type": "stream",
     "text": [
      "message content: \n",
      "tools calss: [{'name': 'tavily_search', 'args': {'query': 'weather in Beijing'}, 'id': 'b338a95e-0869-4ce0-9363-e39225a51fbb', 'type': 'tool_call'}]\n"
     ]
    }
   ],
   "source": [
    "query = 'search for the wether in BeiJing.'\n",
    "response = model_with_tools.invoke([{'role': 'user', 'content': query}])\n",
    "\n",
    "print(f\"message content: {response.text()}\")\n",
    "print(f'tools calss: {response.tool_calls}')"
   ]
  },
  {
   "cell_type": "markdown",
   "id": "2fd7b958",
   "metadata": {},
   "source": [
    "## 3. create the agent\n",
    "\n",
    "这里我们使用 `create_react_agent` 快速构建一个 ReAct 风格的代理<br>\n",
    "\n",
    "如果想要实现更加复杂的业务流程，或者需要严格的流程，需要自己构建图，这些会在后面给予介绍"
   ]
  },
  {
   "cell_type": "code",
   "execution_count": 11,
   "id": "f4d602e6",
   "metadata": {},
   "outputs": [
    {
     "name": "stdout",
     "output_type": "stream",
     "text": [
      "================================\u001b[1m Human Message \u001b[0m=================================\n",
      "\n",
      "hi!\n",
      "==================================\u001b[1m Ai Message \u001b[0m==================================\n",
      "\n",
      "Hello! How can I help you today?\n"
     ]
    }
   ],
   "source": [
    "from langgraph.prebuilt import create_react_agent\n",
    "\n",
    "agent_executor = create_react_agent(model, tools)\n",
    "\n",
    "# 无状态查询（没有记忆）\n",
    "input_message = {'role': 'user', 'content': 'hi!'}\n",
    "response = agent_executor.invoke({'messages': [input_message]})\n",
    "\n",
    "for message in response['messages']:\n",
    "    message.pretty_print()"
   ]
  },
  {
   "cell_type": "code",
   "execution_count": 12,
   "id": "9a4a7fe6",
   "metadata": {},
   "outputs": [
    {
     "name": "stdout",
     "output_type": "stream",
     "text": [
      "================================\u001b[1m Human Message \u001b[0m=================================\n",
      "\n",
      "search for the wether in BeiJing.\n",
      "==================================\u001b[1m Ai Message \u001b[0m==================================\n",
      "Tool Calls:\n",
      "  tavily_search (987f8b6f-e8cf-46d4-be78-035f4257b656)\n",
      " Call ID: 987f8b6f-e8cf-46d4-be78-035f4257b656\n",
      "  Args:\n",
      "    query: weather in Beijing\n",
      "=================================\u001b[1m Tool Message \u001b[0m=================================\n",
      "Name: tavily_search\n",
      "\n",
      "{\"query\": \"weather in Beijing\", \"follow_up_questions\": null, \"answer\": null, \"images\": [], \"results\": [{\"title\": \"Weather in Beijing\", \"url\": \"https://www.weatherapi.com/\", \"content\": \"{'location': {'name': 'Beijing', 'region': 'Beijing', 'country': 'China', 'lat': 39.9289, 'lon': 116.3883, 'tz_id': 'Asia/Shanghai', 'localtime_epoch': 1758895849, 'localtime': '2025-09-26 22:10'}, 'current': {'last_updated_epoch': 1758895200, 'last_updated': '2025-09-26 22:00', 'temp_c': 17.0, 'temp_f': 62.6, 'is_day': 0, 'condition': {'text': 'Clear', 'icon': '//cdn.weatherapi.com/weather/64x64/night/113.png', 'code': 1000}, 'wind_mph': 2.5, 'wind_kph': 4.0, 'wind_degree': 127, 'wind_dir': 'SE', 'pressure_mb': 1021.0, 'pressure_in': 30.15, 'precip_mm': 0.0, 'precip_in': 0.0, 'humidity': 94, 'cloud': 0, 'feelslike_c': 17.0, 'feelslike_f': 62.6, 'windchill_c': 22.8, 'windchill_f': 73.0, 'heatindex_c': 24.6, 'heatindex_f': 76.3, 'dewpoint_c': 11.5, 'dewpoint_f': 52.6, 'vis_km': 10.0, 'vis_miles': 6.0, 'uv': 0.0, 'gust_mph': 4.5, 'gust_kph': 7.3}}\", \"score\": 0.9162712, \"raw_content\": null}, {\"url\": \"https://www.travelchinaguide.com/cityguides/beijing/weather-september.htm?srsltid=AfmBOooU9VQnQHJt2aukJMSW6agEBtJuIh3C_hu4NlqQ2LNa_sBOBgZm\", \"title\": \"Beijing Weather in September 2025: Cool Climate, No Much Rain\", \"content\": \"September with cool temperature of 15-26 degrees Celsius (59-79 degrees Fahrenheit) averagely and sunny and clear climate is one of the best months to visit\", \"score\": 0.769098, \"raw_content\": null}, {\"url\": \"https://www.weather2travel.com/china/beijing/september/\", \"title\": \"Beijing weather in September 2025 | China: How hot?\", \"content\": \"*   [China](https://www.weather2travel.com/china/september/) *   [Beijing](https://www.weather2travel.com/china/beijing/september/) [](https://www.weather2travel.com/china/beijing/september/) *   ![Image 4: 26°C maximum daytime temperature in September in Beijing](https://www.weather2travel.com/images_symbols/temperature14.png)26 26°C max day temperature *   ![Image 6: 7 days with some rainfall in September in Beijing](https://www.weather2travel.com/images_symbols/rainydays3.png)7 7 days with some rainfall *   ![Image 7: 14°C minimum night-time temperature in September in Beijing](https://www.weather2travel.com/images_symbols/temperature9.png)14 14°C min night temperature *   ![Image 8: 12 hours of daylight per day in September in Beijing](https://www.weather2travel.com/images_symbols/daylight12.png)12 12 hours of daylight per day *   ![Image 10: 42 mm monthly rainfall in September in Beijing](https://www.weather2travel.com/images_symbols/rainfall3.png)42 42 mm of monthly rainfall [](https://www.weather2travel.com/china/beijing/september/) *   [![Image 20: Holidays to China](https://www.weather2travel.com/images_logos_big/club-med.png)Club Med*](https://www.weather2travel.com/redirect/recommended.php?d=-2067&w=43&r=September-0-CH&p=162 \\\"Holidays to China\\\") *   [![Image 21: Holidays to China](https://www.weather2travel.com/images_logos_big/mercury-holidays.png)Mercury Holidays*](https://www.weather2travel.com/redirect/recommended.php?d=-2067&w=20&r=September-0-CH&p=152 \\\"Holidays to China\\\") [](https://www.weather2travel.com/china/beijing/september/) Metric (°C / mm) |[Imperial (°F / inches)](https://www.weather2travel.com/china/beijing/september/?Units=1) [Back to top](https://www.weather2travel.com/china/beijing/september/#top) [](https://www.weather2travel.com/china/beijing/september/) [](https://www.weather2travel.com/china/beijing/september/)\", \"score\": 0.6914979, \"raw_content\": null}, {\"url\": \"https://www.accuweather.com/en/cn/beijing/101924/september-weather/101924\", \"title\": \"Beijing, Beijing, China Monthly Weather - AccuWeather\", \"content\": \"[](https://www.accuweather.com/)[Beijing, Beijing ================ 81°F](https://www.accuweather.com/en/cn/beijing/101924/weather-forecast/101924)![Image 1](https://vortex.accuweather.com/adc2010/images/branding-partners/china_weather_logo.png) [Location](https://www.accuweather.com/en/cn/beijing/101924/september-weather/101924)[News](https://www.accuweather.com/en/cn/beijing/101924/september-weather/101924)[Videos](https://www.accuweather.com/en/cn/beijing/101924/september-weather/101924) [Daily -----](https://www.accuweather.com/en/cn/beijing/101924/daily-weather-forecast/101924) Dry pattern grips the East 9 hours ago ![Image 5](https://cms.accuweather.com/wp-content/uploads/2025/09/GreenbrierRiverRenickWV.jpg?w=64&h=64&crop=1)](https://www.accuweather.com/en/weather-forecasts/wheres-the-rain-dry-pattern-grips-the-east/1817475)[Hurricane Mario's ghost sets off flash flooding in Southern California, Southwes... 9 hours ago ![Image 6](https://cms.accuweather.com/wp-content/uploads/2025/09/SWMonNttoWed19Sep3p.jpeg?w=64&h=64&crop=1)](https://www.accuweather.com/en/hurricane/marios-ghost-unloads-rain-sets-off-flash-flooding-in-southern-california-southwestern-us/1817821)[More Stories](https://www.accuweather.com/en/weather-news) 14 hours ago ![Image 8](https://cms.accuweather.com/wp-content/uploads/2023/08/GettyImages-90757881.jpg?w=64&h=64&crop=1)](https://www.accuweather.com/en/space-news/saturn-to-glow-brighter-than-usual-this-weekend-as-it-reaches-opposition/1817801)[Live Blog Does this radar loop show insects or birds? LATEST ENTRY Expert debunks claim about weird weather radar 3 days ago ![Image 9](https://cms.accuweather.com/wp-content/uploads/2025/09/radar-0912_12z_13z.gif?w=64&h=64&crop=1)](https://www.accuweather.com/en/weather-news/live-news/clearing-the-air-lanternflies-are-everywhere-but-are-they-on-radar/1798333)[Health The US is tracking 14 potential rabies outbreaks in 20 states. 1 day ago ![Image 10](https://cms.accuweather.com/wp-content/uploads/2025/09/cnn-L19jb21wb25lbnRzL2ltYWdlL2luc3RhbmNlcy9jbWZwbW8xcTMwMDAxM2I2bngzZ2t6dGVs-L19jb21wb25lbnRzL2FydGljbGUvaW5zdGFuY2VzL2NtZm16ZWtzbzAwOHYyNm5xOWF6cTh0aGY.jpg?w=64&h=64&crop=1)](https://www.accuweather.com/en/health-wellness/the-us-is-tracking-14-potential-rabies-outbreaks-in-20-states-heres-what-to-know/1817668)[Weather News Mount St. Helens stirring up leftover ash 45 years after ‘the big one’ 2 days ago ![Image 11](https://cms.accuweather.com/wp-content/uploads/2025/09/Screenshot-2025-09-17-at-4.16.47-AM.png?w=64&h=64&crop=1)](https://www.accuweather.com/en/weather-news/no-mount-st-helens-isnt-erupting-again-its-just-stirring-up-leftover-ash-45-years-after-the-big-one/1816794) *   [Cangzhou, Hebei](https://www.accuweather.com/en/cn/cangzhou/58670/weather-forecast/58670) *   [Langfang, Hebei](https://www.accuweather.com/en/cn/langfang/58668/weather-forecast/58668) *   [Tianjin, Tianjin](https://www.accuweather.com/en/cn/tianjin/106780/weather-forecast/106780) [Terms of Use](https://www.accuweather.com/en/legal) | [Privacy Policy](https://www.accuweather.com/en/privacy) | [Cookie Policy](https://www.accuweather.com/en/cookiepolicy)|[About Your Privacy Do Not Sell or Share My Personal Information](https://www.accuweather.com/en/cn/beijing/101924/september-weather/101924)\", \"score\": 0.6016175, \"raw_content\": null}, {\"url\": \"https://www.timeanddate.com/weather/china/beijing\", \"title\": \"Weather for Beijing, Beijing Municipality, China - Time and Date\", \"content\": \"*   Time Zone News *   Time Zones Home *   Time Zone News | Forecast | Image 12: Overcast. Image 20: Decreasing cloudiness.79°F Image 21: Mild.55°F Image 22: Mild.65°F 86 / 53°F | 26 Image 24: Overcast. 85 / 56°F | 27 Image 25: Passing showers. 83 / 54°F | 30 Image 28: Broken clouds. 84 / 59°F | 1 Image 29: Overcast. 87 / 62°F | 2 Image 30: Decreasing cloudiness. 83 / 63°F | 3 Image 31: Sunny. 79 / 66°F | 4 Image 32: Breaks of sun late. 78 / 63°F | 5 Image 33: Thunderstorms. 76 / 60°F | 7 Image 35: Overcast. 80 / 59°F | 8 Image 36: Passing showers. 75 / 59°F | 9 Image 37: Decreasing cloudiness.\", \"score\": 0.50315, \"raw_content\": null}], \"response_time\": 1.86, \"request_id\": \"eec1ae4c-627c-4e66-af3a-e978e55a31ac\"}\n",
      "==================================\u001b[1m Ai Message \u001b[0m==================================\n",
      "\n",
      "The current weather in Beijing is clear with a temperature of 17.0°C (62.6°F). The wind is blowing from the southeast at 4.0 kph (2.5 mph). Humidity is at 94%, and there is no precipitation. The pressure is 1021.0 mb.\n"
     ]
    }
   ],
   "source": [
    "input_message = {'role': 'user', 'content': 'search for the wether in BeiJing.'}\n",
    "\n",
    "response = agent_executor.invoke({'messages': [input_message]})\n",
    "for message in response['messages']:\n",
    "    message.pretty_print()"
   ]
  },
  {
   "cell_type": "markdown",
   "id": "3fb4866d",
   "metadata": {},
   "source": [
    "#### 1）streaming messages：按步骤输出"
   ]
  },
  {
   "cell_type": "code",
   "execution_count": 14,
   "id": "fa9a0077",
   "metadata": {},
   "outputs": [
    {
     "name": "stdout",
     "output_type": "stream",
     "text": [
      "================================\u001b[1m Human Message \u001b[0m=================================\n",
      "\n",
      "search for the wether in BeiJing.\n",
      "==================================\u001b[1m Ai Message \u001b[0m==================================\n",
      "Tool Calls:\n",
      "  tavily_search (1b281606-868e-4b69-94de-4fcdb9d0528e)\n",
      " Call ID: 1b281606-868e-4b69-94de-4fcdb9d0528e\n",
      "  Args:\n",
      "    query: weather in Beijing\n",
      "=================================\u001b[1m Tool Message \u001b[0m=================================\n",
      "Name: tavily_search\n",
      "\n",
      "{\"query\": \"weather in Beijing\", \"follow_up_questions\": null, \"answer\": null, \"images\": [], \"results\": [{\"title\": \"Weather in Beijing\", \"url\": \"https://www.weatherapi.com/\", \"content\": \"{'location': {'name': 'Beijing', 'region': 'Beijing', 'country': 'China', 'lat': 39.9289, 'lon': 116.3883, 'tz_id': 'Asia/Shanghai', 'localtime_epoch': 1758895849, 'localtime': '2025-09-26 22:10'}, 'current': {'last_updated_epoch': 1758895200, 'last_updated': '2025-09-26 22:00', 'temp_c': 17.0, 'temp_f': 62.6, 'is_day': 0, 'condition': {'text': 'Clear', 'icon': '//cdn.weatherapi.com/weather/64x64/night/113.png', 'code': 1000}, 'wind_mph': 2.5, 'wind_kph': 4.0, 'wind_degree': 127, 'wind_dir': 'SE', 'pressure_mb': 1021.0, 'pressure_in': 30.15, 'precip_mm': 0.0, 'precip_in': 0.0, 'humidity': 94, 'cloud': 0, 'feelslike_c': 17.0, 'feelslike_f': 62.6, 'windchill_c': 22.8, 'windchill_f': 73.0, 'heatindex_c': 24.6, 'heatindex_f': 76.3, 'dewpoint_c': 11.5, 'dewpoint_f': 52.6, 'vis_km': 10.0, 'vis_miles': 6.0, 'uv': 0.0, 'gust_mph': 4.5, 'gust_kph': 7.3}}\", \"score\": 0.9162712, \"raw_content\": null}, {\"url\": \"https://www.travelchinaguide.com/cityguides/beijing/weather-september.htm?srsltid=AfmBOooU9VQnQHJt2aukJMSW6agEBtJuIh3C_hu4NlqQ2LNa_sBOBgZm\", \"title\": \"Beijing Weather in September 2025: Cool Climate, No Much Rain\", \"content\": \"September with cool temperature of 15-26 degrees Celsius (59-79 degrees Fahrenheit) averagely and sunny and clear climate is one of the best months to visit\", \"score\": 0.769098, \"raw_content\": null}, {\"url\": \"https://www.weather2travel.com/china/beijing/september/\", \"title\": \"Beijing weather in September 2025 | China: How hot?\", \"content\": \"*   [China](https://www.weather2travel.com/china/september/) *   [Beijing](https://www.weather2travel.com/china/beijing/september/) [](https://www.weather2travel.com/china/beijing/september/) *   ![Image 4: 26°C maximum daytime temperature in September in Beijing](https://www.weather2travel.com/images_symbols/temperature14.png)26 26°C max day temperature *   ![Image 6: 7 days with some rainfall in September in Beijing](https://www.weather2travel.com/images_symbols/rainydays3.png)7 7 days with some rainfall *   ![Image 7: 14°C minimum night-time temperature in September in Beijing](https://www.weather2travel.com/images_symbols/temperature9.png)14 14°C min night temperature *   ![Image 8: 12 hours of daylight per day in September in Beijing](https://www.weather2travel.com/images_symbols/daylight12.png)12 12 hours of daylight per day *   ![Image 10: 42 mm monthly rainfall in September in Beijing](https://www.weather2travel.com/images_symbols/rainfall3.png)42 42 mm of monthly rainfall [](https://www.weather2travel.com/china/beijing/september/) *   [![Image 20: Holidays to China](https://www.weather2travel.com/images_logos_big/club-med.png)Club Med*](https://www.weather2travel.com/redirect/recommended.php?d=-2067&w=43&r=September-0-CH&p=162 \\\"Holidays to China\\\") *   [![Image 21: Holidays to China](https://www.weather2travel.com/images_logos_big/mercury-holidays.png)Mercury Holidays*](https://www.weather2travel.com/redirect/recommended.php?d=-2067&w=20&r=September-0-CH&p=152 \\\"Holidays to China\\\") [](https://www.weather2travel.com/china/beijing/september/) Metric (°C / mm) |[Imperial (°F / inches)](https://www.weather2travel.com/china/beijing/september/?Units=1) [Back to top](https://www.weather2travel.com/china/beijing/september/#top) [](https://www.weather2travel.com/china/beijing/september/) [](https://www.weather2travel.com/china/beijing/september/)\", \"score\": 0.6914979, \"raw_content\": null}, {\"url\": \"https://www.accuweather.com/en/cn/beijing/101924/september-weather/101924\", \"title\": \"Beijing, Beijing, China Monthly Weather - AccuWeather\", \"content\": \"[](https://www.accuweather.com/)[Beijing, Beijing ================ 81°F](https://www.accuweather.com/en/cn/beijing/101924/weather-forecast/101924)![Image 1](https://vortex.accuweather.com/adc2010/images/branding-partners/china_weather_logo.png) [Location](https://www.accuweather.com/en/cn/beijing/101924/september-weather/101924)[News](https://www.accuweather.com/en/cn/beijing/101924/september-weather/101924)[Videos](https://www.accuweather.com/en/cn/beijing/101924/september-weather/101924) [Daily -----](https://www.accuweather.com/en/cn/beijing/101924/daily-weather-forecast/101924) Dry pattern grips the East 9 hours ago ![Image 5](https://cms.accuweather.com/wp-content/uploads/2025/09/GreenbrierRiverRenickWV.jpg?w=64&h=64&crop=1)](https://www.accuweather.com/en/weather-forecasts/wheres-the-rain-dry-pattern-grips-the-east/1817475)[Hurricane Mario's ghost sets off flash flooding in Southern California, Southwes... 9 hours ago ![Image 6](https://cms.accuweather.com/wp-content/uploads/2025/09/SWMonNttoWed19Sep3p.jpeg?w=64&h=64&crop=1)](https://www.accuweather.com/en/hurricane/marios-ghost-unloads-rain-sets-off-flash-flooding-in-southern-california-southwestern-us/1817821)[More Stories](https://www.accuweather.com/en/weather-news) 14 hours ago ![Image 8](https://cms.accuweather.com/wp-content/uploads/2023/08/GettyImages-90757881.jpg?w=64&h=64&crop=1)](https://www.accuweather.com/en/space-news/saturn-to-glow-brighter-than-usual-this-weekend-as-it-reaches-opposition/1817801)[Live Blog Does this radar loop show insects or birds? LATEST ENTRY Expert debunks claim about weird weather radar 3 days ago ![Image 9](https://cms.accuweather.com/wp-content/uploads/2025/09/radar-0912_12z_13z.gif?w=64&h=64&crop=1)](https://www.accuweather.com/en/weather-news/live-news/clearing-the-air-lanternflies-are-everywhere-but-are-they-on-radar/1798333)[Health The US is tracking 14 potential rabies outbreaks in 20 states. 1 day ago ![Image 10](https://cms.accuweather.com/wp-content/uploads/2025/09/cnn-L19jb21wb25lbnRzL2ltYWdlL2luc3RhbmNlcy9jbWZwbW8xcTMwMDAxM2I2bngzZ2t6dGVs-L19jb21wb25lbnRzL2FydGljbGUvaW5zdGFuY2VzL2NtZm16ZWtzbzAwOHYyNm5xOWF6cTh0aGY.jpg?w=64&h=64&crop=1)](https://www.accuweather.com/en/health-wellness/the-us-is-tracking-14-potential-rabies-outbreaks-in-20-states-heres-what-to-know/1817668)[Weather News Mount St. Helens stirring up leftover ash 45 years after ‘the big one’ 2 days ago ![Image 11](https://cms.accuweather.com/wp-content/uploads/2025/09/Screenshot-2025-09-17-at-4.16.47-AM.png?w=64&h=64&crop=1)](https://www.accuweather.com/en/weather-news/no-mount-st-helens-isnt-erupting-again-its-just-stirring-up-leftover-ash-45-years-after-the-big-one/1816794) *   [Cangzhou, Hebei](https://www.accuweather.com/en/cn/cangzhou/58670/weather-forecast/58670) *   [Langfang, Hebei](https://www.accuweather.com/en/cn/langfang/58668/weather-forecast/58668) *   [Tianjin, Tianjin](https://www.accuweather.com/en/cn/tianjin/106780/weather-forecast/106780) [Terms of Use](https://www.accuweather.com/en/legal) | [Privacy Policy](https://www.accuweather.com/en/privacy) | [Cookie Policy](https://www.accuweather.com/en/cookiepolicy)|[About Your Privacy Do Not Sell or Share My Personal Information](https://www.accuweather.com/en/cn/beijing/101924/september-weather/101924)\", \"score\": 0.6016175, \"raw_content\": null}, {\"url\": \"https://www.timeanddate.com/weather/china/beijing\", \"title\": \"Weather for Beijing, Beijing Municipality, China - Time and Date\", \"content\": \"*   Time Zone News *   Time Zones Home *   Time Zone News | Forecast | Image 12: Overcast. Image 20: Decreasing cloudiness.79°F Image 21: Mild.55°F Image 22: Mild.65°F 86 / 53°F | 26 Image 24: Overcast. 85 / 56°F | 27 Image 25: Passing showers. 83 / 54°F | 30 Image 28: Broken clouds. 84 / 59°F | 1 Image 29: Overcast. 87 / 62°F | 2 Image 30: Decreasing cloudiness. 83 / 63°F | 3 Image 31: Sunny. 79 / 66°F | 4 Image 32: Breaks of sun late. 78 / 63°F | 5 Image 33: Thunderstorms. 76 / 60°F | 7 Image 35: Overcast. 80 / 59°F | 8 Image 36: Passing showers. 75 / 59°F | 9 Image 37: Decreasing cloudiness.\", \"score\": 0.50315, \"raw_content\": null}], \"response_time\": 1.26, \"request_id\": \"0ca66e3b-4183-499d-8ac3-11cb2332db03\"}\n",
      "==================================\u001b[1m Ai Message \u001b[0m==================================\n",
      "\n",
      "The current weather in Beijing, China (as of 2025-09-26 22:10 local time) is 17.0°C (62.6°F) and clear. The wind is 4.0 km/h (2.5 mph) from the SE, and the humidity is 94%. It feels like 17.0°C (62.6°F).\n"
     ]
    }
   ],
   "source": [
    "for step in agent_executor.stream({'messages': [input_message]}, stream_mode='values'):\n",
    "    step['messages'][-1].pretty_print()"
   ]
  },
  {
   "cell_type": "markdown",
   "id": "8a3f3ac8",
   "metadata": {},
   "source": [
    "#### 2）streaming tokens：按token输出\n",
    "\n",
    "> langchain的流式输出似乎只对python3.11及以上版本支持。其它版本似乎不行......"
   ]
  },
  {
   "cell_type": "code",
   "execution_count": 16,
   "id": "c8a4e7bb",
   "metadata": {},
   "outputs": [
    {
     "name": "stdout",
     "output_type": "stream",
     "text": [
      "The weather in Beijing is clear with a temperature of 17.0°C (62.6°F).|"
     ]
    }
   ],
   "source": [
    "config = {'configurable': {'thread_id': 'agent001'}}\n",
    "\n",
    "for step, metadata in agent_executor.stream(\n",
    "    {'messages': [input_message]}, config, stream_mode='messages'\n",
    "):\n",
    "    if metadata['langgraph_node'] == 'agent' and (text := step.text()):\n",
    "        print(text, end='|')"
   ]
  },
  {
   "cell_type": "markdown",
   "id": "07bce630",
   "metadata": {},
   "source": [
    "#### 3）增加记忆\n",
    "\n",
    "这里，虽然它的回复是不知道我的名字，但实际上模型是有记忆的。原因见：[langchain-based model memory](https://stackoverflow.com/questions/79776520/langchain-based-model-memory)"
   ]
  },
  {
   "cell_type": "code",
   "execution_count": 50,
   "id": "622a811f",
   "metadata": {},
   "outputs": [
    {
     "name": "stdout",
     "output_type": "stream",
     "text": [
      "================================\u001b[1m Human Message \u001b[0m=================================\n",
      "\n",
      "Hi! I am Bob!\n",
      "==================================\u001b[1m Ai Message \u001b[0m==================================\n",
      "\n",
      "Hi Bob! How can I help you today?\n"
     ]
    }
   ],
   "source": [
    "from langgraph.checkpoint.memory import MemorySaver\n",
    "from langchain_core.messages import HumanMessage\n",
    "\n",
    "memory = MemorySaver()\n",
    "\n",
    "agent_executor = create_react_agent(model, tools, checkpointer=memory)\n",
    "config = {'configurable': {'thread_id': 'agent003'}}\n",
    "\n",
    "for step in agent_executor.stream(\n",
    "    {'messages': [HumanMessage('Hi! I am Bob!')]}, config, stream_mode='values'\n",
    "):\n",
    "    step['messages'][-1].pretty_print()"
   ]
  },
  {
   "cell_type": "code",
   "execution_count": 51,
   "id": "54d28112",
   "metadata": {},
   "outputs": [
    {
     "name": "stdout",
     "output_type": "stream",
     "text": [
      "================================\u001b[1m Human Message \u001b[0m=================================\n",
      "\n",
      "What's my name?\n",
      "==================================\u001b[1m Ai Message \u001b[0m==================================\n",
      "\n",
      "I do not know your name. You can tell it to me if you wish!\n"
     ]
    }
   ],
   "source": [
    "state = memory.get(config)\n",
    "history = state[\"channel_values\"][\"messages\"]\n",
    "\n",
    "# Add new input\n",
    "new_input = HumanMessage(\"What's my name?\")\n",
    "full_context = {\"messages\": history + [new_input]}\n",
    "\n",
    "for step in agent_executor.stream(full_context, config, stream_mode='values'):\n",
    "    step['messages'][-1].pretty_print()\n"
   ]
  }
 ],
 "metadata": {
  "kernelspec": {
   "display_name": "langchain",
   "language": "python",
   "name": "python3"
  },
  "language_info": {
   "codemirror_mode": {
    "name": "ipython",
    "version": 3
   },
   "file_extension": ".py",
   "mimetype": "text/x-python",
   "name": "python",
   "nbconvert_exporter": "python",
   "pygments_lexer": "ipython3",
   "version": "3.9.23"
  }
 },
 "nbformat": 4,
 "nbformat_minor": 5
}
