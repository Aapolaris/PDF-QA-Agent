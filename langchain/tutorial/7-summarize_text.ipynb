{
 "cells": [
  {
   "cell_type": "markdown",
   "id": "13b3ea0a",
   "metadata": {},
   "source": [
    "# Summarize Text\n",
    "\n",
    "[Summarize Text - Stuff + Map-Reduce](https://python.langchain.com/docs/tutorials/summarization/) 、 [Summarize Text - iterative refinement](https://python.langchain.com/docs/how_to/summarize_refine/)\n",
    "\n",
    "总结或合并文档的方式：\n",
    "- **Stuff**: 把所有文档合并到 prompt 中\n",
    "- **Map-reduce** : 通常用于大的文档。它将文档分为几部分，分别 summarize 各个部分，再将各个部分的 summarization 整合到 prompt 让模型 summarize\n",
    "- **iterative refinement** : Map-reduce 方法可能会丢失上下文信息。而 refine 方法的原理是，首先将文档拆分为若干更小的文档，然后总结第一份文档，根据下一个文档优化或更新结果，重复上述操作，直至完成\n",
    "\n",
    "其中，当子文档的理解不依赖于上下文时， **Map-reduce** 是非常高效的方法。如总结由许多短文档组成的语料库<br>\n",
    "相反，当总结一部小说或具有固定顺序的文章时，**iterative refinement** 方法更加高效"
   ]
  },
  {
   "cell_type": "markdown",
   "id": "80de3a15",
   "metadata": {},
   "source": [
    "## Setup"
   ]
  },
  {
   "cell_type": "code",
   "execution_count": 1,
   "id": "ea72a334",
   "metadata": {},
   "outputs": [],
   "source": [
    "import os\n",
    "from langchain.chat_models import init_chat_model\n",
    "\n",
    "os.environ['HTTP_PROXY'] = 'http://127.0.0.1:7890'\n",
    "os.environ['HTTPS_PROXY'] = 'http://127.0.0.1:7890'\n",
    "os.environ.get(\"GOOGLE_API_KEY\")\n",
    "\n",
    "llm = init_chat_model('gemini-2.5-flash', model_provider='google-genai')"
   ]
  },
  {
   "cell_type": "code",
   "execution_count": 3,
   "id": "0deab9ba",
   "metadata": {},
   "outputs": [],
   "source": [
    "from langchain_community.document_loaders import WebBaseLoader\n",
    "\n",
    "loader = WebBaseLoader(\"https://lilianweng.github.io/posts/2023-06-23-agent/\")\n",
    "docs = loader.load()"
   ]
  },
  {
   "cell_type": "markdown",
   "id": "df83c147",
   "metadata": {},
   "source": [
    "## Stuff: summarize in a single LLM call\n",
    "\n",
    "> 这里我按照官方文档的代码跑报错了，改成了如下版本"
   ]
  },
  {
   "cell_type": "code",
   "execution_count": 20,
   "id": "f77c0667",
   "metadata": {},
   "outputs": [
    {
     "name": "stdout",
     "output_type": "stream",
     "text": [
      "LLM-powered autonomous agents utilize large language models as their core controller, augmented by three key components:\n",
      "\n",
      "1.  **Planning:** Agents break down complex tasks into subgoals (e.g., Chain of Thought) and employ self-reflection mechanisms (e.g., ReAct, Reflexion) to learn from past actions, refine plans, and improve performance.\n",
      "2.  **Memory:** This extends beyond the LLM's finite context window. Short-term memory is akin to in-context learning, while long-term memory leverages external vector stores and Maximum Inner Product Search (MIPS) for efficient retrieval of vast information.\n",
      "3.  **Tool Use:** Agents can interact with external APIs and specialized modules (e.g., ChatGPT Plugins, HuggingGPT, ChemCrow) to expand their capabilities, facilitating tasks like scientific discovery or simulating human behavior.\n",
      "\n",
      "Despite promising proof-of-concept demos (e.g., AutoGPT, GPT-Engineer), significant challenges remain, including finite context length, difficulties in long-term planning and adapting to unexpected errors, and the inherent unreliability of natural language interfaces.\n"
     ]
    }
   ],
   "source": [
    "from langchain.chains.combine_documents import create_stuff_documents_chain\n",
    "from langchain.chains.llm import LLMChain\n",
    "from langchain_core.prompts import ChatPromptTemplate\n",
    "\n",
    "# Define prompt\n",
    "prompt = ChatPromptTemplate.from_template(\n",
    "    \"Write a concise summary of the following:\\\\n\\\\n{context}\"\n",
    ")\n",
    "\n",
    "# Instantiate chain\n",
    "chain = create_stuff_documents_chain(llm, prompt)\n",
    "\n",
    "# Invoke chain\n",
    "result = chain.invoke({\"context\": docs})\n",
    "print(result)"
   ]
  },
  {
   "cell_type": "markdown",
   "id": "2a77974e",
   "metadata": {},
   "source": [
    "## Map-Reduce: 并行化处理长文本摘要\n",
    "\n",
    "Map-reduce 的核心思想：\n",
    "1. **映射 Map** : 将每个子文档独立输入 LLM 生成局部摘要。这一步天然适合并行处理，我们可以同时向多个 LLM 实例发送请求，大幅提升处理效率。\n",
    "2. **规约 Reduce** : 将所有局部摘要合并为一个全局摘要。这里需要注意，如果局部摘要的总长度仍超过模型上下文窗口，需要递归执行 “分割 - 摘要 - 合并” 的过程，直到结果符合要求。"
   ]
  },
  {
   "cell_type": "markdown",
   "id": "9ad4d27b",
   "metadata": {},
   "source": [
    "### (1) 核心提示词模板\n",
    "\n",
    "包括 Map 阶段的提示词和 Reduce 阶段的提示词"
   ]
  },
  {
   "cell_type": "code",
   "execution_count": null,
   "id": "5bebdfc8",
   "metadata": {},
   "outputs": [],
   "source": [
    "from langchain_core.messages import HumanMessage, SystemMessage\n",
    "\n",
    "# map_prompt = ChatPromptTemplate.from_messages(  # Gemini不接受这种格式，可能是因为没有HumanMessage\n",
    "#     [('system', 'Write a concise summary of the following:\\\\n\\\\n{context}')]\n",
    "# )\n",
    "map_prompt = ChatPromptTemplate.from_messages(  # 严格来说，这种方式是不行的\n",
    "    SystemMessage('Write a concise summary of the following:\\\\n\\\\n{context}')\n",
    ")\n",
    "\n",
    "# 推荐改成以下方式：\n",
    "# map_prompt = ChatPromptTemplate.from_messages([\n",
    "#     (\"system\", \"You are a careful summarizer.\"),\n",
    "#     (\"human\", \"Write a concise summary of the following:\\n\\n{context}\")\n",
    "# ])"
   ]
  },
  {
   "cell_type": "code",
   "execution_count": 37,
   "id": "9b936cff",
   "metadata": {},
   "outputs": [],
   "source": [
    "reduce_template = \"\"\"\n",
    "The following is a set of summaries:\n",
    "{docs}\n",
    "Take these and distill it into a final, consolidated summary\n",
    "of the main themes.\n",
    "\"\"\"\n",
    "\n",
    "reduce_prompt = ChatPromptTemplate([(\"human\", reduce_template)])"
   ]
  },
  {
   "cell_type": "markdown",
   "id": "766fbe87",
   "metadata": {},
   "source": [
    "### (2) 文本分割\n",
    "\n",
    "文本分割是处理超长文本的前提"
   ]
  },
  {
   "cell_type": "code",
   "execution_count": 31,
   "id": "0614e20e",
   "metadata": {},
   "outputs": [
    {
     "name": "stderr",
     "output_type": "stream",
     "text": [
      "Created a chunk of size 1003, which is longer than the specified 1000\n"
     ]
    },
    {
     "name": "stdout",
     "output_type": "stream",
     "text": [
      "13\n"
     ]
    }
   ],
   "source": [
    "from langchain_text_splitters import CharacterTextSplitter\n",
    "\n",
    "text_splitter = CharacterTextSplitter.from_tiktoken_encoder(\n",
    "    chunk_size=1000, chunk_overlap=0\n",
    ")\n",
    "split_docs = text_splitter.split_documents(docs)\n",
    "print(len(split_docs))\n",
    "\n",
    "# print(type(split_docs[0]))  # <class 'langchain_core.documents.base.Document'>"
   ]
  },
  {
   "cell_type": "markdown",
   "id": "45800031",
   "metadata": {},
   "source": [
    "### (3) 构建状态图：定义工作流逻辑"
   ]
  },
  {
   "cell_type": "code",
   "execution_count": 42,
   "id": "f9b2ca8c",
   "metadata": {},
   "outputs": [
    {
     "name": "stderr",
     "output_type": "stream",
     "text": [
      "C:\\Users\\86136\\AppData\\Local\\Temp\\ipykernel_3816\\840984269.py:8: LangGraphDeprecatedSinceV10: Importing Send from langgraph.constants is deprecated. Please use 'from langgraph.types import Send' instead. Deprecated in LangGraph V1.0 to be removed in V2.0.\n",
      "  from langgraph.constants import Send\n"
     ]
    }
   ],
   "source": [
    "import operator\n",
    "from typing import Annotated, List, Literal, TypedDict\n",
    "from langchain.chains.combine_documents.reduce import(\n",
    "    acollapse_docs,\n",
    "    split_list_of_docs\n",
    ")\n",
    "from langchain_core.documents import Document\n",
    "from langgraph.constants import Send\n",
    "from langgraph.graph import END, START, StateGraph\n",
    "\n",
    "token_max = 1000\n",
    "\n",
    "def length_funcation(documents: List[Document]) -> int:\n",
    "    \"\"\"get number of tokens of input contents\"\"\"\n",
    "    return sum(llm.get_num_tokens(doc.page_content) for doc in documents)\n",
    "\n",
    "\n",
    "class OverallState(TypedDict):\n",
    "    \"\"\"\n",
    "    contents: 原始子文档内容列表\n",
    "    summaries: 所有局部摘要\n",
    "    collapsed_summaries: 中间合并结果\n",
    "    final_summary: 最终的全局摘要\n",
    "    \"\"\"\n",
    "    contents: List[str]\n",
    "    summaries: Annotated[list, operator.add]  # operator.add 是为了把每次的summary整合到一起\n",
    "    collapsed_summaries: List[Document]\n",
    "    final_summary: str\n",
    "\n",
    "\n",
    "class SummaryState(TypedDict):  # 用于生成summary的文本的state\n",
    "    content: str\n",
    "\n",
    "\n",
    "# Node - 生成局部摘要\n",
    "async def generate_summary(state: SummaryState):\n",
    "    \"\"\"generate partial summary\"\"\"\n",
    "    prompt = map_prompt.invoke(state['content'])\n",
    "    response = await llm.ainvoke(prompt)\n",
    "    return {\"summaries\": [response.content]}\n",
    "\n",
    "\n",
    "# 从状态里取出所有文本片段，把它们逐一打包成任务，\n",
    "# 交给 'generate_summary' 节点去处理，形成 Map 阶段的并行摘要请求。\n",
    "def map_summaries(state: OverallState):\n",
    "    return [\n",
    "        Send('generate_summary', {'content': content}) for content in state['contents']\n",
    "    ]\n",
    "\n",
    "\n",
    "# Node - 初始化collapsed_summries为所有局部摘要的合集\n",
    "def collect_summaries(state: OverallState):\n",
    "    return {\n",
    "        'collapsed_summaries': [Document(summary) for summary in state['summaries']]\n",
    "    }\n",
    "\n",
    "\n",
    "# 规约步骤——对输入文本进行摘要\n",
    "async def _reduce(input: dict) -> str:\n",
    "    prompt = reduce_prompt.invoke(input)\n",
    "    response = await llm.ainvoke(prompt)\n",
    "    return response.content\n",
    "\n",
    "\n",
    "# Node - 对超过token_max的文本再次进行 “分割-->摘要-->合并”\n",
    "async def collapse_summaries(state: OverallState):\n",
    "    doc_lists = split_list_of_docs(\n",
    "        state['collapsed_summaries'], length_func=length_funcation, token_max=token_max\n",
    "    )\n",
    "    results = []\n",
    "    for doc_list in doc_lists:\n",
    "        results.append(await acollapse_docs(doc_list, _reduce))\n",
    "    return {'collapsed_summaries': results}\n",
    "\n",
    "\n",
    "# 判断当前文本collapsed_summaries是否需要进一步分割\n",
    "def should_collapse(\n",
    "        state: OverallState\n",
    ") -> Literal['collapse_summaries', 'generate_final_summary']:\n",
    "    num_tokens = length_funcation(state['collapsed_summaries'])\n",
    "    if num_tokens > token_max:\n",
    "        return \"collapse_summaries\"\n",
    "    else:\n",
    "        return 'generate_final_summary'\n",
    "\n",
    "# Node - 生成最后的文本摘要\n",
    "async def generate_final_summary(state: OverallState):\n",
    "    response = await _reduce(state['collapsed_summaries'])\n",
    "    return {\"final_summary\": response}\n",
    "\n",
    "# 构建图\n",
    "# nodes\n",
    "graph = StateGraph(OverallState)\n",
    "graph.add_node('generate_summary', generate_summary)\n",
    "graph.add_node('collect_summaries', collect_summaries)\n",
    "graph.add_node('collapse_summaries', collapse_summaries)\n",
    "graph.add_node('generate_final_summary', generate_final_summary)\n",
    "\n",
    "# edges\n",
    "graph.add_conditional_edges(START, map_summaries, ['generate_summary'])\n",
    "graph.add_edge('generate_summary', 'collect_summaries')\n",
    "graph.add_conditional_edges('collect_summaries', should_collapse)\n",
    "graph.add_conditional_edges('collapse_summaries', should_collapse)\n",
    "graph.add_edge('generate_final_summary', END)\n",
    "\n",
    "app = graph.compile()"
   ]
  },
  {
   "cell_type": "code",
   "execution_count": 34,
   "id": "441f6560",
   "metadata": {},
   "outputs": [
    {
     "data": {
      "image/png": "[encoded data removed]",
      "text/plain": [
       "<IPython.core.display.Image object>"
      ]
     },
     "execution_count": 34,
     "metadata": {},
     "output_type": "execute_result"
    }
   ],
   "source": [
    "from IPython.display import Image\n",
    "\n",
    "Image(app.get_graph().draw_mermaid_png())"
   ]
  },
  {
   "cell_type": "code",
   "execution_count": 43,
   "id": "b8640eab",
   "metadata": {},
   "outputs": [
    {
     "name": "stderr",
     "output_type": "stream",
     "text": [
      "Retrying langchain_google_genai.chat_models._achat_with_retry.<locals>._achat_with_retry in 2.0 seconds as it raised ResourceExhausted: 429 You exceeded your current quota, please check your plan and billing details. For more information on this error, head to: https://ai.google.dev/gemini-api/docs/rate-limits.\n",
      "* Quota exceeded for metric: generativelanguage.googleapis.com/generate_content_free_tier_requests, limit: 10\n",
      "Please retry in 44.672850242s. [violations {\n",
      "  quota_metric: \"generativelanguage.googleapis.com/generate_content_free_tier_requests\"\n",
      "  quota_id: \"GenerateRequestsPerMinutePerProjectPerModel-FreeTier\"\n",
      "  quota_dimensions {\n",
      "    key: \"model\"\n",
      "    value: \"gemini-2.5-flash\"\n",
      "  }\n",
      "  quota_dimensions {\n",
      "    key: \"location\"\n",
      "    value: \"global\"\n",
      "  }\n",
      "  quota_value: 10\n",
      "}\n",
      ", links {\n",
      "  description: \"Learn more about Gemini API quotas\"\n",
      "  url: \"https://ai.google.dev/gemini-api/docs/rate-limits\"\n",
      "}\n",
      ", retry_delay {\n",
      "  seconds: 44\n",
      "}\n",
      "].\n"
     ]
    },
    {
     "name": "stdout",
     "output_type": "stream",
     "text": [
      "['generate_summary']\n"
     ]
    },
    {
     "name": "stderr",
     "output_type": "stream",
     "text": [
      "Retrying langchain_google_genai.chat_models._achat_with_retry.<locals>._achat_with_retry in 4.0 seconds as it raised ResourceExhausted: 429 You exceeded your current quota, please check your plan and billing details. For more information on this error, head to: https://ai.google.dev/gemini-api/docs/rate-limits.\n",
      "* Quota exceeded for metric: generativelanguage.googleapis.com/generate_content_free_tier_requests, limit: 10\n",
      "Please retry in 42.384708234s. [violations {\n",
      "  quota_metric: \"generativelanguage.googleapis.com/generate_content_free_tier_requests\"\n",
      "  quota_id: \"GenerateRequestsPerMinutePerProjectPerModel-FreeTier\"\n",
      "  quota_dimensions {\n",
      "    key: \"model\"\n",
      "    value: \"gemini-2.5-flash\"\n",
      "  }\n",
      "  quota_dimensions {\n",
      "    key: \"location\"\n",
      "    value: \"global\"\n",
      "  }\n",
      "  quota_value: 10\n",
      "}\n",
      ", links {\n",
      "  description: \"Learn more about Gemini API quotas\"\n",
      "  url: \"https://ai.google.dev/gemini-api/docs/rate-limits\"\n",
      "}\n",
      ", retry_delay {\n",
      "  seconds: 42\n",
      "}\n",
      "].\n"
     ]
    },
    {
     "name": "stdout",
     "output_type": "stream",
     "text": [
      "['generate_summary']\n",
      "['generate_summary']\n"
     ]
    },
    {
     "name": "stderr",
     "output_type": "stream",
     "text": [
      "Retrying langchain_google_genai.chat_models._achat_with_retry.<locals>._achat_with_retry in 8.0 seconds as it raised ResourceExhausted: 429 You exceeded your current quota, please check your plan and billing details. For more information on this error, head to: https://ai.google.dev/gemini-api/docs/rate-limits.\n",
      "* Quota exceeded for metric: generativelanguage.googleapis.com/generate_content_free_tier_requests, limit: 10\n",
      "Please retry in 38.192319551s. [violations {\n",
      "  quota_metric: \"generativelanguage.googleapis.com/generate_content_free_tier_requests\"\n",
      "  quota_id: \"GenerateRequestsPerMinutePerProjectPerModel-FreeTier\"\n",
      "  quota_dimensions {\n",
      "    key: \"model\"\n",
      "    value: \"gemini-2.5-flash\"\n",
      "  }\n",
      "  quota_dimensions {\n",
      "    key: \"location\"\n",
      "    value: \"global\"\n",
      "  }\n",
      "  quota_value: 10\n",
      "}\n",
      ", links {\n",
      "  description: \"Learn more about Gemini API quotas\"\n",
      "  url: \"https://ai.google.dev/gemini-api/docs/rate-limits\"\n",
      "}\n",
      ", retry_delay {\n",
      "  seconds: 38\n",
      "}\n",
      "].\n"
     ]
    },
    {
     "name": "stdout",
     "output_type": "stream",
     "text": [
      "['generate_summary']\n",
      "['generate_summary']\n",
      "['generate_summary']\n",
      "['generate_summary']\n",
      "['generate_summary']\n",
      "['generate_summary']\n",
      "['generate_summary']\n"
     ]
    },
    {
     "name": "stderr",
     "output_type": "stream",
     "text": [
      "Retrying langchain_google_genai.chat_models._achat_with_retry.<locals>._achat_with_retry in 16.0 seconds as it raised ResourceExhausted: 429 You exceeded your current quota, please check your plan and billing details. For more information on this error, head to: https://ai.google.dev/gemini-api/docs/rate-limits.\n",
      "* Quota exceeded for metric: generativelanguage.googleapis.com/generate_content_free_tier_requests, limit: 10\n",
      "Please retry in 29.898595567s. [violations {\n",
      "  quota_metric: \"generativelanguage.googleapis.com/generate_content_free_tier_requests\"\n",
      "  quota_id: \"GenerateRequestsPerMinutePerProjectPerModel-FreeTier\"\n",
      "  quota_dimensions {\n",
      "    key: \"model\"\n",
      "    value: \"gemini-2.5-flash\"\n",
      "  }\n",
      "  quota_dimensions {\n",
      "    key: \"location\"\n",
      "    value: \"global\"\n",
      "  }\n",
      "  quota_value: 10\n",
      "}\n",
      ", links {\n",
      "  description: \"Learn more about Gemini API quotas\"\n",
      "  url: \"https://ai.google.dev/gemini-api/docs/rate-limits\"\n",
      "}\n",
      ", retry_delay {\n",
      "  seconds: 29\n",
      "}\n",
      "].\n"
     ]
    },
    {
     "name": "stdout",
     "output_type": "stream",
     "text": [
      "['generate_summary']\n",
      "['generate_summary']\n"
     ]
    },
    {
     "name": "stderr",
     "output_type": "stream",
     "text": [
      "Retrying langchain_google_genai.chat_models._achat_with_retry.<locals>._achat_with_retry in 32.0 seconds as it raised ResourceExhausted: 429 You exceeded your current quota, please check your plan and billing details. For more information on this error, head to: https://ai.google.dev/gemini-api/docs/rate-limits.\n",
      "* Quota exceeded for metric: generativelanguage.googleapis.com/generate_content_free_tier_requests, limit: 10\n",
      "Please retry in 13.590891222s. [violations {\n",
      "  quota_metric: \"generativelanguage.googleapis.com/generate_content_free_tier_requests\"\n",
      "  quota_id: \"GenerateRequestsPerMinutePerProjectPerModel-FreeTier\"\n",
      "  quota_dimensions {\n",
      "    key: \"model\"\n",
      "    value: \"gemini-2.5-flash\"\n",
      "  }\n",
      "  quota_dimensions {\n",
      "    key: \"location\"\n",
      "    value: \"global\"\n",
      "  }\n",
      "  quota_value: 10\n",
      "}\n",
      ", links {\n",
      "  description: \"Learn more about Gemini API quotas\"\n",
      "  url: \"https://ai.google.dev/gemini-api/docs/rate-limits\"\n",
      "}\n",
      ", retry_delay {\n",
      "  seconds: 13\n",
      "}\n",
      "].\n"
     ]
    },
    {
     "name": "stdout",
     "output_type": "stream",
     "text": [
      "['generate_summary']\n",
      "['collect_summaries']\n",
      "['collapse_summaries']\n",
      "['collapse_summaries']\n",
      "['generate_final_summary']\n"
     ]
    }
   ],
   "source": [
    "async for step in app.astream(\n",
    "    {\"contents\": [doc.page_content for doc in split_docs]},\n",
    "    {\"recursion_limit\": 10},\n",
    "):\n",
    "    print(list(step.keys()))"
   ]
  },
  {
   "cell_type": "code",
   "execution_count": 44,
   "id": "df59525e",
   "metadata": {},
   "outputs": [
    {
     "name": "stdout",
     "output_type": "stream",
     "text": [
      "{'generate_final_summary': {'final_summary': 'The documents collectively describe the rapid evolution of LLM-powered autonomous agents, leveraging large language models as central \"brains\" for general problem-solving. A dominant theme is the **augmentation of LLMs with external tools and specialized modules**, enabling them to interact with APIs, execute code, and access external data to overcome inherent limitations.\\n\\nThese agents incorporate advanced cognitive architectures, featuring sophisticated **planning and reasoning mechanisms** (such as iterative task breakdown, multi-path reasoning, Chain of Thought, Tree of Thoughts, and reasoning-action loops like ReAct and Reflexion), robust **memory systems** (including short-term in-context memory and long-term vector stores), and strong **self-reflection and self-improvement capabilities** (learning from feedback and past trajectories like Chain of Hindsight).\\n\\nThis enables a wide range of applications, including autonomous **code generation**, **scientific discovery**, general-purpose **autonomous task execution** (e.g., web browsing, managing other AI), and creating complex **simulations** with believable social behaviors.\\n\\nDespite these advancements, significant **challenges persist**, notably limitations in context length, difficulties with long-term planning and error adaptation, ensuring output stability and reliability, and accurately determining the effective use of tools. The unreliability of natural language interfaces and the potential for misuse also highlight the need for careful development. Lilian Weng\\'s June 2023 article, \"LLM-powered Autonomous Agents,\" is cited as a comprehensive overview detailing these foundational concepts and advanced methods.'}}\n"
     ]
    }
   ],
   "source": [
    "print(step)"
   ]
  },
  {
   "cell_type": "markdown",
   "id": "45c771e5",
   "metadata": {},
   "source": [
    "## iterative refinement\n",
    "\n",
    "为了方便，这里不用上述的docs了\n",
    "\n",
    "> 在本方法中，明明它的特点是顺序执行，官方文档仍然使用异步的方式执行，（猜测）原因如下: <br>\n",
    "> 1. 保持接口的一致性。在单纯的 `iterative refinement` 方法里，异步虽然看似没有发挥优势，但并不会阻塞事件循环。写法统一，开发者不用切换思维\n",
    "> 2. 可组合性：在更大的工作流程中，refine 可能只是其中一环，外层可能有并行任务。保持异步接口能让它无缝嵌入。\n",
    "> 3. 在多用户环境中，多个请求可以并发执行，即使每个请求内部是顺序的"
   ]
  },
  {
   "cell_type": "code",
   "execution_count": 49,
   "id": "9e550e3e",
   "metadata": {},
   "outputs": [],
   "source": [
    "documents = [\n",
    "    Document(page_content='apples are red', metadata={'title': 'apple_book'}),\n",
    "    Document(page_content=\"blueberries are blue\", metadata={'title': 'blueberry_book'}),\n",
    "    Document(page_content=\"bananas are  yellow\", metadata={'title': 'banana_book'}),\n",
    "]"
   ]
  },
  {
   "cell_type": "code",
   "execution_count": null,
   "id": "aab4ea63",
   "metadata": {},
   "outputs": [],
   "source": [
    "from langchain_core.output_parsers import StrOutputParser\n",
    "from langchain_core.runnables import RunnableConfig\n",
    "from langchain_core.messages import HumanMessage\n",
    "\n",
    "\n",
    "summary_prompt = ChatPromptTemplate([\n",
    "    ('human', 'Write a concise summary of the following: {context}')\n",
    "])\n",
    "\n",
    "\n",
    "refine_template = \"\"\"\n",
    "Produce a final summary.\n",
    "\n",
    "Existing summary up to this point:\n",
    "{existing_answer}\n",
    "\n",
    "New context:\n",
    "------------\n",
    "{context}\n",
    "------------\n",
    "\n",
    "Given the new context, refine the original summary.\n",
    "\"\"\"\n",
    "refine_prompt = ChatPromptTemplate([(\"human\", refine_template)])\n",
    "\n",
    "class State(TypedDict):\n",
    "    contents: List[str]\n",
    "    index: int\n",
    "    summary: str\n",
    "\n",
    "async def generate_initial_summary(state: State, config: RunnableConfig):\n",
    "    prompt = summary_prompt.invoke(state['contents'][0])\n",
    "    summary = await llm.ainvoke(prompt)\n",
    "    return {'summary': summary, 'index': 1}\n",
    "\n",
    "async def refine_summary(state: State, config: RunnableConfig):\n",
    "    content = state['contents'][state['index']]\n",
    "    prompt = refine_prompt.invoke({'existing_answer': state['summary'], 'context': content})\n",
    "    summary = await llm.ainvoke(prompt)\n",
    "    return {'summary': summary, 'index': state['index']+1}\n",
    "\n",
    "def should_refine(state: State):\n",
    "    if state['index'] >= len(state['contents']):\n",
    "        return END\n",
    "    else:\n",
    "        return 'refine_summary'\n",
    "    \n",
    "\n",
    "graph = StateGraph(State)\n",
    "graph.add_node('generate_initial_summary', generate_initial_summary)\n",
    "graph.add_node('refine_summary', refine_summary)\n",
    "\n",
    "graph.add_edge(START, 'generate_initial_summary')\n",
    "graph.add_conditional_edges('generate_initial_summary', should_refine)\n",
    "graph.add_conditional_edges('refine_summary', should_refine)\n",
    "\n",
    "app = graph.compile()"
   ]
  },
  {
   "cell_type": "code",
   "execution_count": null,
   "id": "5a80b3c5",
   "metadata": {},
   "outputs": [],
   "source": [
    "from IPython.display import Image\n",
    "\n",
    "Image(app.get_graph().draw_mermaid_png())"
   ]
  },
  {
   "cell_type": "code",
   "execution_count": 95,
   "id": "1aabd147",
   "metadata": {},
   "outputs": [
    {
     "name": "stdout",
     "output_type": "stream",
     "text": [
      "Apples are red.\n",
      "Apples are red and blueberries are blue.\n",
      "Apples are red, blueberries are blue, and bananas are yellow.\n"
     ]
    }
   ],
   "source": [
    "async for step in app.astream(\n",
    "    {\"contents\": [doc.page_content for doc in documents]},\n",
    "    stream_mode=\"values\",\n",
    "):\n",
    "    if summary := step.get(\"summary\"):\n",
    "        print(summary.content)"
   ]
  },
  {
   "cell_type": "markdown",
   "id": "c8f6737b",
   "metadata": {},
   "source": [
    "## 实际应用\n",
    "\n",
    "- 除了 `Stuff` 、 `Map-Reduce` 、 `iterative refinement` 等方法外，一些  [repo](https://github.com/firecrawl/QA_clustering?tab=readme-ov-file) 还提出了引入聚类的方法，如下图<br>\n",
    "\n",
    "\n",
    "![Summarize Text](./img/253349764-2f6d4408-2eb3-49b1-92c6-5b2c4a2c7260.png)\n"
   ]
  }
 ],
 "metadata": {
  "kernelspec": {
   "display_name": "langchain",
   "language": "python",
   "name": "python3"
  },
  "language_info": {
   "codemirror_mode": {
    "name": "ipython",
    "version": 3
   },
   "file_extension": ".py",
   "mimetype": "text/x-python",
   "name": "python",
   "nbconvert_exporter": "python",
   "pygments_lexer": "ipython3",
   "version": "3.9.23"
  }
 },
 "nbformat": 4,
 "nbformat_minor": 5
}
